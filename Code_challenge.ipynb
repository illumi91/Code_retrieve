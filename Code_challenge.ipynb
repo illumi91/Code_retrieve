{
 "cells": [
  {
   "cell_type": "markdown",
   "metadata": {},
   "source": [
    "# Luigi Fiori"
   ]
  },
  {
   "cell_type": "markdown",
   "metadata": {},
   "source": [
    "Background:\n",
    "\n",
    "At Bet.Me, we retrieve data from a wide variety of sources in a wide variety of formats.  Typically, we retrieve information relating to sports (football, tennis, horse racing) results from both public web sites and commercial data providers.  The information is usually in a structured format such as CSV, JSON or Microsoft Excel.  We then transform the data and put it in a persistent store, such as a database.  Later on, this data is used by our data science team.\n",
    "\n",
    "Problem Statement:\n",
    "\n",
    "In a language of your choice, write a command line program to:\n",
    "-\ttake a single parameter, a URL of a single data file\n",
    "-\tretrieve data file from a web site\n",
    "-\tparse data file into (strongly typed) objects\n",
    "-\twrites each object as a JSON string to console\n",
    "-\t[BONUS] store objects in a database of your choice\n",
    "\n",
    "Please do not spend more than 1 hour on this problem.  There is a BONUS section which will require more time but this is entirely optional.\n"
   ]
  },
  {
   "cell_type": "code",
   "execution_count": 1,
   "metadata": {},
   "outputs": [],
   "source": [
    "import requests\n",
    "import pandas as pd\n",
    "from bs4 import BeautifulSoup"
   ]
  },
  {
   "cell_type": "code",
   "execution_count": 2,
   "metadata": {},
   "outputs": [],
   "source": [
    "URL = \"https://www.football-data.co.uk/englandm.php\""
   ]
  },
  {
   "cell_type": "code",
   "execution_count": 3,
   "metadata": {},
   "outputs": [],
   "source": [
    "response = requests.get(URL)\n",
    "soup = BeautifulSoup(response.content, 'html5lib')"
   ]
  },
  {
   "cell_type": "code",
   "execution_count": 4,
   "metadata": {},
   "outputs": [],
   "source": [
    "emp_list = []\n",
    "table = soup.findAll('a')\n",
    "for x in table:\n",
    "    if 'csv' in x['href']:\n",
    "        emp_list.append(x['href'])"
   ]
  },
  {
   "cell_type": "code",
   "execution_count": 5,
   "metadata": {},
   "outputs": [
    {
     "data": {
      "text/html": [
       "<div>\n",
       "<style scoped>\n",
       "    .dataframe tbody tr th:only-of-type {\n",
       "        vertical-align: middle;\n",
       "    }\n",
       "\n",
       "    .dataframe tbody tr th {\n",
       "        vertical-align: top;\n",
       "    }\n",
       "\n",
       "    .dataframe thead th {\n",
       "        text-align: right;\n",
       "    }\n",
       "</style>\n",
       "<table border=\"1\" class=\"dataframe\">\n",
       "  <thead>\n",
       "    <tr style=\"text-align: right;\">\n",
       "      <th></th>\n",
       "      <th>Div</th>\n",
       "      <th>Date</th>\n",
       "      <th>Time</th>\n",
       "      <th>HomeTeam</th>\n",
       "      <th>AwayTeam</th>\n",
       "      <th>FTHG</th>\n",
       "      <th>FTAG</th>\n",
       "      <th>FTR</th>\n",
       "      <th>HTHG</th>\n",
       "      <th>HTAG</th>\n",
       "      <th>...</th>\n",
       "      <th>AvgC&lt;2.5</th>\n",
       "      <th>AHCh</th>\n",
       "      <th>B365CAHH</th>\n",
       "      <th>B365CAHA</th>\n",
       "      <th>PCAHH</th>\n",
       "      <th>PCAHA</th>\n",
       "      <th>MaxCAHH</th>\n",
       "      <th>MaxCAHA</th>\n",
       "      <th>AvgCAHH</th>\n",
       "      <th>AvgCAHA</th>\n",
       "    </tr>\n",
       "  </thead>\n",
       "  <tbody>\n",
       "    <tr>\n",
       "      <th>0</th>\n",
       "      <td>E0</td>\n",
       "      <td>09/08/2019</td>\n",
       "      <td>20:00</td>\n",
       "      <td>Liverpool</td>\n",
       "      <td>Norwich</td>\n",
       "      <td>4</td>\n",
       "      <td>1</td>\n",
       "      <td>H</td>\n",
       "      <td>4</td>\n",
       "      <td>0</td>\n",
       "      <td>...</td>\n",
       "      <td>3.43</td>\n",
       "      <td>-2.25</td>\n",
       "      <td>1.91</td>\n",
       "      <td>1.99</td>\n",
       "      <td>1.94</td>\n",
       "      <td>1.98</td>\n",
       "      <td>1.99</td>\n",
       "      <td>2.07</td>\n",
       "      <td>1.90</td>\n",
       "      <td>1.99</td>\n",
       "    </tr>\n",
       "    <tr>\n",
       "      <th>1</th>\n",
       "      <td>E0</td>\n",
       "      <td>10/08/2019</td>\n",
       "      <td>12:30</td>\n",
       "      <td>West Ham</td>\n",
       "      <td>Man City</td>\n",
       "      <td>0</td>\n",
       "      <td>5</td>\n",
       "      <td>A</td>\n",
       "      <td>0</td>\n",
       "      <td>1</td>\n",
       "      <td>...</td>\n",
       "      <td>2.91</td>\n",
       "      <td>1.75</td>\n",
       "      <td>1.95</td>\n",
       "      <td>1.95</td>\n",
       "      <td>1.96</td>\n",
       "      <td>1.97</td>\n",
       "      <td>2.07</td>\n",
       "      <td>1.98</td>\n",
       "      <td>1.97</td>\n",
       "      <td>1.92</td>\n",
       "    </tr>\n",
       "    <tr>\n",
       "      <th>2</th>\n",
       "      <td>E0</td>\n",
       "      <td>10/08/2019</td>\n",
       "      <td>15:00</td>\n",
       "      <td>Bournemouth</td>\n",
       "      <td>Sheffield United</td>\n",
       "      <td>1</td>\n",
       "      <td>1</td>\n",
       "      <td>D</td>\n",
       "      <td>0</td>\n",
       "      <td>0</td>\n",
       "      <td>...</td>\n",
       "      <td>1.92</td>\n",
       "      <td>-0.50</td>\n",
       "      <td>1.95</td>\n",
       "      <td>1.95</td>\n",
       "      <td>1.98</td>\n",
       "      <td>1.95</td>\n",
       "      <td>2.00</td>\n",
       "      <td>1.96</td>\n",
       "      <td>1.96</td>\n",
       "      <td>1.92</td>\n",
       "    </tr>\n",
       "    <tr>\n",
       "      <th>3</th>\n",
       "      <td>E0</td>\n",
       "      <td>10/08/2019</td>\n",
       "      <td>15:00</td>\n",
       "      <td>Burnley</td>\n",
       "      <td>Southampton</td>\n",
       "      <td>3</td>\n",
       "      <td>0</td>\n",
       "      <td>H</td>\n",
       "      <td>0</td>\n",
       "      <td>0</td>\n",
       "      <td>...</td>\n",
       "      <td>1.71</td>\n",
       "      <td>0.00</td>\n",
       "      <td>1.87</td>\n",
       "      <td>2.03</td>\n",
       "      <td>1.89</td>\n",
       "      <td>2.03</td>\n",
       "      <td>1.90</td>\n",
       "      <td>2.07</td>\n",
       "      <td>1.86</td>\n",
       "      <td>2.02</td>\n",
       "    </tr>\n",
       "    <tr>\n",
       "      <th>4</th>\n",
       "      <td>E0</td>\n",
       "      <td>10/08/2019</td>\n",
       "      <td>15:00</td>\n",
       "      <td>Crystal Palace</td>\n",
       "      <td>Everton</td>\n",
       "      <td>0</td>\n",
       "      <td>0</td>\n",
       "      <td>D</td>\n",
       "      <td>0</td>\n",
       "      <td>0</td>\n",
       "      <td>...</td>\n",
       "      <td>1.71</td>\n",
       "      <td>0.25</td>\n",
       "      <td>1.82</td>\n",
       "      <td>2.08</td>\n",
       "      <td>1.97</td>\n",
       "      <td>1.96</td>\n",
       "      <td>2.03</td>\n",
       "      <td>2.08</td>\n",
       "      <td>1.96</td>\n",
       "      <td>1.93</td>\n",
       "    </tr>\n",
       "  </tbody>\n",
       "</table>\n",
       "<p>5 rows × 106 columns</p>\n",
       "</div>"
      ],
      "text/plain": [
       "  Div        Date   Time        HomeTeam          AwayTeam  FTHG  FTAG FTR  \\\n",
       "0  E0  09/08/2019  20:00       Liverpool           Norwich     4     1   H   \n",
       "1  E0  10/08/2019  12:30        West Ham          Man City     0     5   A   \n",
       "2  E0  10/08/2019  15:00     Bournemouth  Sheffield United     1     1   D   \n",
       "3  E0  10/08/2019  15:00         Burnley       Southampton     3     0   H   \n",
       "4  E0  10/08/2019  15:00  Crystal Palace           Everton     0     0   D   \n",
       "\n",
       "   HTHG  HTAG  ... AvgC<2.5  AHCh  B365CAHH  B365CAHA  PCAHH  PCAHA  MaxCAHH  \\\n",
       "0     4     0  ...     3.43 -2.25      1.91      1.99   1.94   1.98     1.99   \n",
       "1     0     1  ...     2.91  1.75      1.95      1.95   1.96   1.97     2.07   \n",
       "2     0     0  ...     1.92 -0.50      1.95      1.95   1.98   1.95     2.00   \n",
       "3     0     0  ...     1.71  0.00      1.87      2.03   1.89   2.03     1.90   \n",
       "4     0     0  ...     1.71  0.25      1.82      2.08   1.97   1.96     2.03   \n",
       "\n",
       "   MaxCAHA  AvgCAHH  AvgCAHA  \n",
       "0     2.07     1.90     1.99  \n",
       "1     1.98     1.97     1.92  \n",
       "2     1.96     1.96     1.92  \n",
       "3     2.07     1.86     2.02  \n",
       "4     2.08     1.96     1.93  \n",
       "\n",
       "[5 rows x 106 columns]"
      ]
     },
     "execution_count": 5,
     "metadata": {},
     "output_type": "execute_result"
    }
   ],
   "source": [
    "df = pd.read_csv('https://www.football-data.co.uk/mmz4281/1920/E0.csv')\n",
    "df.head()"
   ]
  },
  {
   "cell_type": "code",
   "execution_count": 6,
   "metadata": {},
   "outputs": [
    {
     "data": {
      "text/html": [
       "<div>\n",
       "<style scoped>\n",
       "    .dataframe tbody tr th:only-of-type {\n",
       "        vertical-align: middle;\n",
       "    }\n",
       "\n",
       "    .dataframe tbody tr th {\n",
       "        vertical-align: top;\n",
       "    }\n",
       "\n",
       "    .dataframe thead th {\n",
       "        text-align: right;\n",
       "    }\n",
       "</style>\n",
       "<table border=\"1\" class=\"dataframe\">\n",
       "  <thead>\n",
       "    <tr style=\"text-align: right;\">\n",
       "      <th></th>\n",
       "      <th>0</th>\n",
       "    </tr>\n",
       "  </thead>\n",
       "  <tbody>\n",
       "    <tr>\n",
       "      <th>0</th>\n",
       "      <td>mmz4281/1920/E0.csv</td>\n",
       "    </tr>\n",
       "    <tr>\n",
       "      <th>1</th>\n",
       "      <td>mmz4281/1920/E1.csv</td>\n",
       "    </tr>\n",
       "    <tr>\n",
       "      <th>2</th>\n",
       "      <td>mmz4281/1920/E2.csv</td>\n",
       "    </tr>\n",
       "    <tr>\n",
       "      <th>3</th>\n",
       "      <td>mmz4281/1920/E3.csv</td>\n",
       "    </tr>\n",
       "    <tr>\n",
       "      <th>4</th>\n",
       "      <td>mmz4281/1920/EC.csv</td>\n",
       "    </tr>\n",
       "  </tbody>\n",
       "</table>\n",
       "</div>"
      ],
      "text/plain": [
       "                     0\n",
       "0  mmz4281/1920/E0.csv\n",
       "1  mmz4281/1920/E1.csv\n",
       "2  mmz4281/1920/E2.csv\n",
       "3  mmz4281/1920/E3.csv\n",
       "4  mmz4281/1920/EC.csv"
      ]
     },
     "execution_count": 6,
     "metadata": {},
     "output_type": "execute_result"
    }
   ],
   "source": [
    "df = pd.DataFrame(emp_list)\n",
    "df.head()"
   ]
  },
  {
   "cell_type": "code",
   "execution_count": 7,
   "metadata": {},
   "outputs": [],
   "source": [
    "if 'csv' in table[0]['href']:\n",
    "    print(True)"
   ]
  },
  {
   "cell_type": "code",
   "execution_count": 8,
   "metadata": {},
   "outputs": [
    {
     "data": {
      "text/plain": [
       "'<HTML>\\r\\n<HEAD>\\r\\n<TITLE>England Football Results Betting Odds | Premiership Results & Betting Odds</TITLE>\\r\\n<META NAME=\"description\" CONTENT=\"English football results, fixed odds, total goals and Asian Handicap betting odds data including the Premiership and other divisions\">\\r\\n<META NAME=\"keywords\" CONTENT=\"English Football Results, English Betting Odds, Premiership Betting\">\\r\\n<META NAME=\"revisit-after\" CONTENT=\"7\">\\r\\n<META HTTP-EQUIV=\"author\" CONTENT=\"Joesph Buchdahl\">\\r\\n<META NAME=\"distribution\" CONTENT=\"Global\">\\r\\n<META NAME=\"robots\" CONTENT=\"FOLLOW,INDEX\">\\r\\n<link rel=\"stylesheet\" href=\"style.css\">\\r\\n</HEAD>\\r\\n\\r\\n<body BGCOLOR=\"#FFFFFF\" TEXT=\"#000000\" ALINK=\"#6666CC\" VLINK=\"#6666CC\" LINK=\"#6666CC\">\\r\\n\\r\\n<!-- Place this render call where appropriate -->\\r\\n<script type=\"text/javascript\">\\r\\n  window.___gcfg = {lang: \\'en-GB\\'};\\r\\n\\r\\n  (function() {\\r\\n    var po = document.createElement(\\'script\\'); po.type = \\'text/javascript\\'; po.async = true;\\r\\n    po.src = \\'https://apis.google.com/js/plusone.js\\';\\r\\n    var s = document.getElementsByTagName(\\'script\\')[0]; s.parentNode.insertBefore(po, s);\\r\\n  })();\\r\\n</script>\\r\\n\\r\\n<TABLE align=center CELLSPACING=0 BORDER=0 CELLPADDING=0 WIDTH=800>\\r\\n<TR><td align=left><A HREF=\"https://www.football-data.co.uk/\"><IMG SRC=\"https://www.football-data.co.uk/logo2.jpg\" BORDER=\"0\" ALT=\"Football Betting - Football Results - Free Bets\"></A></td>\\r\\n\\r\\n<td colspan=5 align=right>\\r\\n\\r\\n<!-- <A rel=\"nofollow\" HREF=\"http://media.paddypower.com/redirect.aspx?pid=10481976&bid=7042\" target=\"_blank\"><img border=0 width=100% src=\"https://www.football-data.co.uk/banners/utd_16-1_v_city_728x90.gif\"></a>\\r\\n\\r\\n\\r\\n<A rel=\"nofollow\" HREF=\"http://www.bet365.com/dl/oIR/?affiliate=grm_1371\" target=\"_blank\"><img border=0 src=\"https://www.football-data.co.uk/banners/CL_468x60.jpg\"></a>\\r\\n\\r\\n<a href=\"http://imstore.bet365affiliates.com/Tracker.aspx?AffiliateId=4123&AffiliateCode=grm_1371&CID=197&DID=5&TID=1&PID=149&LNG=1\" target=\"_blank\"><img src=\"http://imstore.bet365affiliates.com/?AffiliateCode=grm_1371&CID=197&DID=5&TID=1&PID=149&LNG=1\" border=\"0\" width=\"468\" height=\"60\" alt=\"Bet365\"></a>\\r\\n\\r\\n\\r\\n\\r\\n<iframe allowtransparency=\"true\" src=\"https://ads.boylesports.com/ad.aspx?bid=3437&pid=40\" width=\"468\" height=\"60\" marginwidth=\"0\" marginheight=\"0\" hspace=\"0\" vspace=\"0\" frameborder=\"0\" scrolling=\"no\"></iframe>\\r\\n<iframe scrolling=\\'no\\' frameBorder=\\'0\\' style=\\'padding:0px; margin:0px; border:0px;border-style:none;border-style:none;\\' width=\\'468\\' height=\\'60\\' src=\"https://activewin.adsrv.eacdn.com/I.ashx?btag=a_4173b_8269c_&affid=4462&siteid=4173&adid=8269&c=\" ></iframe>\\r\\n<iframe allowtransparency=\"true\" src=\"https://ads2.williamhill.com/ad.aspx?bid=1487417109&pid=9332\" width=\"468\" height=\"60\" marginwidth=\"0\" marginheight=\"0\" hspace=\"0\" vspace=\"0\" frameborder=\"0\" scrolling=\"no\"></iframe>\\r\\n -->\\r\\n \\r\\n<iframe allowtransparency=\"true\" src=\"https://media.paddypower.com/ad.aspx?bid=6933&pid=92701\" width=\"468\" height=\"60\" marginwidth=\"0\" marginheight=\"0\" hspace=\"0\" vspace=\"0\" frameborder=\"0\" scrolling=\"no\"></iframe>\\r\\n\\r\\n\\r\\n\\r\\n\\r\\n\\r\\n\\r\\n\\r\\n\\r\\n\\r\\n\\r\\n</TD></TR>\\r\\n<tr><td height=19 valign=top>\\r\\n<select onChange=\"location=this.options[this.selectedIndex].value;\" style=\"font-family:\\'Verdana\\';color:#000000;background-color:#FFFFFF;font-size:7pt;\">\\r\\n<option>Network Sites\\r\\n<option>\\r\\n<option value=\"https://freebets.football-data.co.uk\">Free Bets</option>\\r\\n<option value=\"http://livescore.football-data.co.uk\">Football Livescore</option>\\r\\n<option value=\"http://odds.football-data.co.uk\">Odds Comparison</option>\\r\\n<option value=\"https://betting.football-data.co.uk\">Betting Advice</option>\\r\\n<option value=\"http://www.tennis-data.co.uk\">Tennis Betting</option>\\r\\n<option value=\"http://livescore.tennis-data.co.uk\">Tennis Livescore</option>\\r\\n<option value=\"http://www.sports-tipsters.co.uk\">Betting Tipsters</option>\\r\\n</select>\\r\\n</td>\\r\\n<td align=right width=160 height=19 align=\"right\">\\r\\nUpdated: \\t24/05/20</TD>\\r\\n<td width=130 height=19 align=middle>\\r\\n<!-- AddThis Button BEGIN -->\\r\\n<a class=\"addthis_button\" href=\"http://www.addthis.com/bookmark.php?v=250&amp;pubid=joebuchdahl\"><img src=\"http://s7.addthis.com/static/btn/v2/lg-share-en.gif\" width=\"125\" height=\"16\" alt=\"Bookmark and Share\" style=\"border:0\"/></a>\\r\\n<script type=\"text/javascript\" src=\"http://s7.addthis.com/js/250/addthis_widget.js#pubid=joebuchdahl\"></script>\\r\\n</TD>\\r\\n<td height=19 align=middle>\\r\\n<!-- AddThis Button END --> <!-- Place this tag where you want the +1 button to render -->\\r\\n<g:plusone size=\"small\" annotation=\"none\"></g:plusone>\\r\\n</TD>\\r\\n<td height=19 align=right>\\r\\n<A HREF=\"https://www.football-data.co.uk/disclaimer.php\"><img width=17 height=17 border=0 align=\"top\" src=\"https://www.football-data.co.uk/banner/18.gif\" alt=\"legal disclaimer\"></a> BeGambleAware.org\\r\\n</TD>\\r\\n<td height=19 align=right>\\r\\n<a href=\"https://twitter.com/12Xpert\" class=\"twitter-follow-button\" data-show-count=\"false\" data-show-screen-name=\"false\">Follow @12Xpert</a>\\r\\n<script>!function(d,s,id){var js,fjs=d.getElementsByTagName(s)[0];if(!d.getElementById(id)){js=d.createElement(s);js.id=id;js.src=\"//platform.twitter.com/widgets.js\";fjs.parentNode.insertBefore(js,fjs);}}(document,\"script\",\"twitter-wjs\");</script>\\r\\n</TD>\\r\\n</TR>\\r\\n</table>\\r\\n\\r\\n<TABLE align=center CELLSPACING=1 BORDER=0 CELLPADDING=0 WIDTH=800>\\r\\n<tr><td height=4></td></tr>\\r\\n</table>\\r\\n\\r\\n<TABLE align=center CELLSPACING=1 BORDER=0 CELLPADDING=1 WIDTH=800 bgcolor=\"#999999\">\\r\\n<tr>\\r\\n<td align=center bgcolor=\"#F3F3F3\"><div class=\"header\"><B><A HREF=\"https://www.football-data.co.uk\">Home</A></B></div></td>\\r\\n<td align=center bgcolor=\"#F3F3F3\"><div class=\"header\"><B><A HREF=\"https://freebets.football-data.co.uk\">Free Bets</A></B></div></td>\\r\\n<td align=center bgcolor=\"#F3F3F3\"><div class=\"header\"><B><A HREF=\"http://livescore.football-data.co.uk\">Livescores</A></B></div></td>\\r\\n<td align=center bgcolor=\"#F3F3F3\"><div class=\"header\"><B><A HREF=\"https://betting.football-data.co.uk\">Betting Advice</A></B></div></td>\\r\\n<td align=center bgcolor=\"#F3F3F3\"><div class=\"header\"><B><A HREF=\"https://www.football-data.co.uk/profitable_betting_system.php\">Betting System</A></B></div></td>\\r\\n<td align=center bgcolor=\"#F3F3F3\"><div class=\"header\"><B><A HREF=\"http://odds.football-data.co.uk\">Odds</A></B></div></td>\\r\\n<td align=center bgcolor=\"#F3F3F3\"><div style=\"margin-top:1px; margin-left:1px; margin-right:1px; margin-bottom:1px;\"><B><A target=\"_blank\" HREF=\"https://imstore.bet365affiliates.com/Tracker.aspx?AffiliateId=4123&AffiliateCode=grm_1371&CID=405&DID=60&TID=1&PID=74&LNG=1\">Casino</A></B></div></td>\\r\\n<td align=center bgcolor=\"#F3F3F3\"><div style=\"margin-top:1px; margin-left:1px; margin-right:1px; margin-bottom:1px;\"><B><A target=\"_blank\" HREF=\"http://poker.bet365.com/?affiliate=grm_1371&lng=1\">Poker</A></B></div></td>\\r\\n<td align=center bgcolor=\"#F3F3F3\"><div class=\"header\"><B><A HREF=\"http://www.tennis-data.co.uk\" TARGET=\"_blank\">Tennis</A></B></div></td>\\r\\n<td align=center bgcolor=\"#F3F3F3\"><div class=\"header\"><B><A HREF=\"https://www.football-data.co.uk/books.php\">Books</A></B></div></td>\\r\\n</tr>\\r\\n</table>\\r\\n\\r\\n<TABLE align=center CELLSPACING=1 BORDER=0 CELLPADDING=0 WIDTH=800>\\r\\n<tr><td height=5></td></tr>\\r\\n<!--<tr><td><a href=\"http://media.paddypower.com/redirect.aspx?pid=92701&bid=7046\" title=\"Paddy Power Free Bet\" target=\"_blank\"><img src=\"https://www.football-data.co.uk/banners/altior.jpeg\"></a></td></tr>\\r\\n<tr><td height=5></td></tr>   -->\\r\\n<tr><td>\\r\\n<A href=\"https://imstore.bet365affiliates.com/Tracker.aspx?AffiliateId=4123&AffiliateCode=grm_1371&CID=196&DID=87&TID=1&PID=149&LNG=1\" target=\"_blank\"><img width=100% src=\"https://imstore.bet365affiliates.com/?AffiliateCode=grm_1371&amp;CID=196&amp;DID=87&amp;TID=1&amp;PID=149&amp;LNG=1\" border=\"0\" /></A>\\r\\n</td></tr>\\r\\n<tr><td height=5></td></tr>\\r\\n</table>\\r\\n\\r\\n\\r\\n\\r\\n\\r\\n\\r\\n\\r\\n\\r\\n<TABLE align=center CELLSPACING=0 BORDER=0 CELLPADDING=0 WIDTH=800>\\r\\n<tr><td height=5></td></tr>\\r\\n\\r\\n<TR>\\r\\n<TD width=160 align=left valign=top>\\r\\n\\r\\n<table width=\"100%\" border=\"0\" cellspacing=\"1\" cellpadding=\"1\" bgcolor=\"#999999\">\\r\\n<tr><td bgcolor=\"#AAAAAA\"><div class=\"menus\"><B><FONT COLOR=\"#FFFFFF\">WORLD\\'S FAVOURITE</FONT></B></div></td></tr>\\r\\n<tr><td class=\"menustd\"><div class=\"menus\"><A target=\"_blank\" rel=\"nofollow\" HREF=\"https://www.bet365.com/olp/open-account/?affiliate=grm_1371\"><B><img valign=\"middle\" border=0 width=\"27\" src=\"https://www.football-data.co.uk/banners/bookies/bet365.png\"></a> <A target=\"_blank\" rel=\"nofollow\" HREF=\"https://www.bet365.com/olp/open-account/?affiliate=grm_1371\"><B><font size=\"-1\">bet365</font></b></a></div></td></tr>\\r\\n</table><BR>\\r\\n\\r\\n<table width=\"100%\" border=\"0\" cellspacing=\"1\" cellpadding=\"1\" bgcolor=\"#999999\">\\r\\n<tr><td bgcolor=\"#AAAAAA\"><div class=\"menus\"><B><FONT COLOR=\"#FFFFFF\">TOP RATED</FONT></B></div></td></tr>\\r\\n<tr><td class=\"menustd\"><div class=\"menus\"><A target=\"_blank\" rel=\"nofollow\" HREF=\"http://ads.betfair.com/redirect.aspx?pid=4184&bid=9282\"><B><img valign=\"middle\" border=0 width=\"27\" src=\"https://www.football-data.co.uk/banners/bookies/betfair.png\"></a> <A target=\"_blank\" rel=\"nofollow\" HREF=\"http://ads.betfair.com/redirect.aspx?pid=4184&bid=9282\"><B><font size=\"-1\">Betfair</font></b></a></div></td></tr>\\r\\n<tr><td class=\"menustd\"><div class=\"menus\"><A target=\"_blank\" rel=\"nofollow\" HREF=\"https://campaigns.williamhill.com/C.ashx?btag=a_87b_815c_&affid=1213609&siteid=87&adid=815&c=\"><B><img valign=\"middle\" width=\"27\" border=0 src=\"https://www.football-data.co.uk/banners/bookies/williamhill.png\"></a> <A target=\"_blank\" rel=\"nofollow\" HREF=\"https://campaigns.williamhill.com/C.ashx?btag=a_87b_815c_&affid=1213609&siteid=87&adid=815&c=\"><B><font size=\"-1\">William Hill</font></b></a></div></td></tr>\\r\\n<tr><td class=\"menustd\"><div class=\"menus\"><A target=\"_blank\" rel=\"nofollow\" HREF=\"http://media.paddypower.com/redirect.aspx?pid=92701&bid=6549\"><B><img valign=\"middle\" width=\"27\" border=0 src=\"https://www.football-data.co.uk/banners/bookies/paddypower.png\"></a> <A target=\"_blank\" rel=\"nofollow\" HREF=\"http://media.paddypower.com/redirect.aspx?pid=92701&bid=6549\"><B><font size=\"-1\">Paddy Power</font></b></a></div></td></tr>\\r\\n<tr><td class=\"menustd\"><div class=\"menus\"><A target=\"_blank\" rel=\"nofollow\" HREF=\"https://mmwebhandler.888.com/c/35459?sr=391481&isDirect=false\"><B><img valign=\"middle\" width=\"27\" border=0 src=\"https://www.football-data.co.uk/banners/bookies/888sport.png\"> <A target=\"_blank\" rel=\"nofollow\" HREF=\"https://mmwebhandler.888.com/c/35459?sr=391481&isDirect=false\"><B><font size=\"-1\">888Sport</font></b></a></div></td></tr>\\r\\n<tr><td class=\"menustd\"><div class=\"menus\"><A target=\"_blank\" rel=\"nofollow\" HREF=\"https://activewins.link/o/mMXTGk?site_id=4173\"><B><img valign=\"middle\" width=\"27\" border=0 src=\"https://www.football-data.co.uk/banners/bookies/betfred.png\"> <A target=\"_blank\" rel=\"nofollow\" HREF=\"https://activewins.link/o/mMXTGk?site_id=4173\"><B><font size=\"-1\">Betfred</font></b></a></div></td></tr>\\r\\n<tr><td class=\"menustd\"><div class=\"menus\"><A target=\"_blank\" rel=\"nofollow\" HREF=\"https://sports.betway.com/?s=wgs20821&BannerTag=84&mid=20390\"><B><img valign=\"middle\" width=\"27\" border=0 src=\"https://www.football-data.co.uk/banners/bookies/Betway.png\"> <A target=\"_blank\" rel=\"nofollow\" HREF=\"https://sports.betway.com/?s=wgs20821&BannerTag=84&mid=20390\"><B><font size=\"-1\">Betway</font></b></a></div></td></tr>\\r\\n<tr><td class=\"menustd\"><div class=\"menus\"><A target=\"_blank\" rel=\"nofollow\" HREF=\"http://adserving.unibet.com/redirect.aspx?pid=10404&bid=22341\"><B><img valign=\"middle\" width=\"27\" border=0 src=\"https://www.football-data.co.uk/banners/bookies/unibet.png\"> <A target=\"_blank\" rel=\"nofollow\" HREF=\"http://adserving.unibet.com/redirect.aspx?pid=10404&bid=22341\"><B><font size=\"-1\">Unibet</font></b></a></div></td></tr>\\r\\n</table><BR>\\r\\n\\r\\n\\r\\n\\r\\n<!-- \\r\\n<table width=\"100%\" border=\"0\" cellspacing=\"1\" cellpadding=\"1\" bgcolor=\"#999999\">\\r\\n<tr><td bgcolor=\"#AAAAAA\"><div class=\"menus\"><B><FONT COLOR=\"#FFFFFF\">ENHANCED MULTIPLES</FONT></B></div></td></tr>\\r\\n<tr><td class=\"menustd\"><div class=\"menus\"><A HREF=\"https://freebets.football-data.co.uk/bet365.php\" rel=\"nofollow\"><B>Bet365 Euro Bonus</B></A></div></td></tr>\\r\\n<tr><td class=\"menustd\"><div class=\"menus\"><A HREF=\"http://betway.com/sports-betting/?a=3546879997#/soccer/specials/enhanced-multiple\" target=\"_blank\" rel=\"nofollow\"><B>Betway</B></A></div></td></tr>\\r\\n<tr><td class=\"menustd\"><div class=\"menus\"><A HREF=\"http://affiliate.coral.co.uk/processing/clickthrgh.asp?btag=a_9853b_5695\" target=\"_blank\" rel=\"nofollow\"><B>Coral</B></A></div></td></tr>\\r\\n</table><BR>-->\\r\\n\\r\\n<iframe allowtransparency=\"true\" src=\"https://ads.betfair.com/ad.aspx?bid=10736&pid=4184\" width=\"160\" height=\"600\" marginwidth=\"0\" marginheight=\"0\" hspace=\"0\" vspace=\"0\" frameborder=\"0\" scrolling=\"no\"></iframe>\\r\\n<P>\\r\\n<!--\\r\\n<iframe allowtransparency=\"true\" src=\"https://media.paddypower.com/ad.aspx?bid=6929&pid=92701\" width=\"160\" height=\"600\" marginwidth=\"0\" marginheight=\"0\" hspace=\"0\" vspace=\"0\" frameborder=\"0\" scrolling=\"no\"></iframe><P>\\r\\n-->\\r\\n\\r\\n<table width=\"100%\" border=\"0\" cellspacing=\"1\" cellpadding=\"1\" bgcolor=\"#999999\">\\r\\n<tr><td bgcolor=\"#AAAAAA\"><div class=\"menus\"><B><FONT COLOR=\"#FFFFFF\">NEW CUSTOMERS</FONT></B></div></td></tr>\\r\\n\\r\\n<tr><td class=\"menustd\"><div class=\"menus\"><A rel=\"nofollow\" HREF=\"https://freebets.football-data.co.uk/100betcredits.php\"><B>bet365 Bet Credits</B></A></div></td></tr>\\r\\n<tr><td class=\"menustd\"><div class=\"menus\"><A rel=\"nofollow\" HREF=\"https://freebets.football-data.co.uk/30freebets.php\"><B>&pound;30 Free Bets</B></A></div></td></tr>\\r\\n<tr><td class=\"menustd\"><div class=\"menus\"><A rel=\"nofollow\" HREF=\"https://freebets.football-data.co.uk/20freebets.php\"><B>&pound;20 Free Bets</B></A></div></td></tr>\\r\\n</table><BR>\\r\\n\\r\\n\\r\\n<table width=\"100%\" border=\"0\" cellspacing=\"1\" cellpadding=\"1\" bgcolor=\"#999999\">\\r\\n<tr><td bgcolor=\"#AAAAAA\"><div class=\"menus\"><B><FONT COLOR=\"#FFFFFF\">PINNACLE SPORTS</FONT></B></div></td></tr>\\r\\n<tr><td class=\"menustd\"><div class=\"menus\"><A HREF=\"https://www.football-data.co.uk/pinnacle_sports.php\"><B>Why Pinnacle Sports?</B></A></div></td></tr>\\r\\n<tr><td class=\"menustd\"><div class=\"menus\"><A target=\"_blank\" rel=\"nofollow\" HREF=\"http://www.pinnaclesports.com/default.aspx?btag=a_5b_717c_&refer=xfbdata\"><B>Bet with Pinnacle Now!</B></A></div></td></tr>\\r\\n</table><BR>\\r\\n\\r\\n<table width=\"100%\" border=\"0\" cellspacing=\"1\" cellpadding=\"1\" bgcolor=\"#999999\">\\r\\n<tr><td bgcolor=\"#AAAAAA\"><div class=\"menus\"><B><FONT COLOR=\"#FFFFFF\">BETTING ARTICLES</FONT></B></div></td></tr>\\r\\n<tr><td class=\"menustd\"><div class=\"menus\"><A HREF=\"https://www.football-data.co.uk/blog/tipstrr.php\"><B>tipstrr</B></A></div></td></tr>\\r\\n<tr><td class=\"menustd\"><div class=\"menus\"><A HREF=\"https://www.football-data.co.uk/blog/betshare.php\"><B>Betshares in Overs/Unders</B></A></div></td></tr>\\r\\n<tr><td class=\"menustd\"><div class=\"menus\"><A HREF=\"https://www.football-data.co.uk/blog/closing_odds.php\"><B>Analysing Tipsters</B></A></div></td></tr>\\r\\n<tr><td class=\"menustd\"><div class=\"menus\"><A HREF=\"https://www.football-data.co.uk/blog/asian_handicap.php\"><B>Beating Asian Handicap</B></A></div></td></tr>\\r\\n<tr><td class=\"menustd\"><div class=\"menus\"><A HREF=\"https://www.football-data.co.uk/blog/pinnacle_efficiency.php\"><B>Closing Odds</B></A></div></td></tr>\\r\\n<tr><td class=\"menustd\"><div class=\"menus\"><A HREF=\"https://www.football-data.co.uk/blog/premiership_unpredictable.php\"><B>Unpredictable Premiership</B></A></div></td></tr>\\r\\n<tr><td class=\"menustd\"><div class=\"menus\"><A HREF=\"https://www.football-data.co.uk/blog/steamers_and_drifters.php\"><B>Steamers & Drifters</B></A></div></td></tr>\\r\\n<tr><td class=\"menustd\"><div class=\"menus\"><A HREF=\"https://www.football-data.co.uk/blog/beat_the_market.php\"><B>Beating the Odds</B></A></div></td></tr>\\r\\n<tr><td class=\"menustd\"><div class=\"menus\"><A HREF=\"https://www.football-data.co.uk/blog/hot_hand_streaks.php\"><B>Betting Hot Hands</B></A></div></td></tr>\\r\\n<tr><td class=\"menustd\"><div class=\"menus\"><A HREF=\"https://www.football-data.co.uk/blog/favourite_longshot_bias_revisited.php\"><B>Favourite-Longshot Bias</B></A></div></td></tr>\\r\\n<tr><td class=\"menustd\"><div class=\"menus\"><A HREF=\"https://www.football-data.co.uk/blog/unwise_points_spread.php\"><B>Point Spread Bias</B></A></div></td></tr>\\r\\n<tr><td class=\"menustd\"><div class=\"menus\"><A HREF=\"https://www.football-data.co.uk/blog/power_ratings.php\"><B>Power Ratings</B></A></div></td></tr>\\r\\n<tr><td class=\"menustd\"><div class=\"menus\"><A HREF=\"https://www.football-data.co.uk/blog/wisdom_of_the_crowd.php\"><B>Wisdom of Crowds</B></A></div></td></tr>\\r\\n<tr><td class=\"menustd\"><div class=\"menus\"><A HREF=\"https://www.football-data.co.uk/blog/verifiedtipsters_scam.php\"><B>Verified Tipsters Scam</B></A></div></td></tr>\\r\\n<tr><td class=\"menustd\"><div class=\"menus\"><A HREF=\"https://www.football-data.co.uk/blog/sports_betting_random.php\"><B>Is Betting Random?</B></A></div></td></tr>\\r\\n<tr><td class=\"menustd\"><div class=\"menus\"><A HREF=\"https://www.football-data.co.uk/blog/sports-betting_winners_and_losers.php\"><B>How Many Win?</B></A></div></td></tr>\\r\\n<tr><td class=\"menustd\"><div class=\"menus\"><A HREF=\"https://www.football-data.co.uk/blog/luck_skill_sports_betting.php\"><B>Luck & Skill</B></A></div></td></tr>\\r\\n<tr><td class=\"menustd\"><div class=\"menus\"><A HREF=\"https://www.football-data.co.uk/blog/martingale_progressive_staking.php\"><B>Progressive Staking</B></A></div></td></tr>\\r\\n<tr><td class=\"menustd\"><div class=\"menus\"><A HREF=\"https://www.football-data.co.uk/blog/archive.php\"><B>Other Articles</B></A></div></td></tr>\\r\\n</table><BR>\\r\\n\\r\\n<!-- -->\\r\\n<table width=\"100%\" border=\"0\" cellspacing=\"1\" cellpadding=\"1\" bgcolor=\"#999999\">\\r\\n<tr><td bgcolor=\"#AAAAAA\"><div class=\"menus\"><B><FONT COLOR=\"#FFFFFF\">FAVOURITE CASINOS</FONT></B></div></td></tr>\\r\\n<tr><td class=\"menustd\"><div class=\"menus\"><A target=\"_blank\" rel=\"nofollow\" HREF=\"https://imstore.bet365affiliates.com/Tracker.aspx?AffiliateId=4123&AffiliateCode=grm_1371&CID=405&DID=60&TID=1&PID=74&LNG=1\"><B>bet365</B></A></div></td></tr>\\r\\n<tr><td class=\"menustd\"><div class=\"menus\"><A target=\"_blank\" rel=\"nofollow\" HREF=\"http://ads2.williamhill.com/redirect.aspx?pid=287743&bid=1487415147&lpid=1477380757\"><B>William Hill</B></A></div></td></tr>\\r\\n<tr><td class=\"menustd\"><div class=\"menus\"><A target=\"_blank\" rel=\"nofollow\" HREF=\"https://dspk.kindredplc.com/redirect.aspx?pid=22043687&bid=31102\"><B>32Red</B></A></div></td></tr>\\r\\n<tr><td class=\"menustd\"><div class=\"menus\"><A target=\"_blank\" rel=\"nofollow\" HREF=\"https://media.paddypower.com/redirect.aspx?pid=7091&bid=5905\"><B>Paddy Power</B></A></div></td></tr>\\r\\n<tr><td class=\"menustd\"><div class=\"menus\"><A target=\"_blank\" rel=\"nofollow\" HREF=\"http://casino.betway.com/?s=wgs20821&BannerTag=84&mid=16147\"><B>Betway</B></A></div></td></tr>\\r\\n<!--\\r\\n<tr><td class=\"menustd\"><div class=\"menus\"><A target=\"_blank\" rel=\"nofollow\" HREF=\"https://partners.ladbrokes.com/C.ashx?btag=a_2462b_194c_&affid=1209&siteid=2462&adid=194&c=\"><B>Ladbrokes</B></A></div></td></tr>\\r\\n  -->\\r\\n<tr><td class=\"menustd\"><div class=\"menus\"><A target=\"_blank\" rel=\"nofollow\" HREF=\"http://www.888.com/?sr=362365&lang=en&flag=0000\"><B>888.com</B></A></div></td></tr>\\r\\n\\r\\n</table><BR>\\r\\n\\r\\n\\r\\n<table width=\"100%\" border=\"0\" cellspacing=\"1\" cellpadding=\"1\" bgcolor=\"#999999\">\\r\\n<tr><td bgcolor=\"#AAAAAA\"><div style=\"margin-top:2px; margin-left:5px; margin-right:5px; margin-bottom:2px;\"><B><FONT COLOR=\"#FFFFFF\">FAVOURITE POKER ROOMS</FONT></B></div></td></tr>\\r\\n<tr><td class=\"menustd\"><div class=\"menus\"><A target=\"_blank\" rel=\"nofollow\" HREF=\"http://poker.bet365.com/?affiliate=grm_1371&lng=1\"><B>Bet365</B></A></div></td></tr>\\r\\n<tr><td class=\"menustd\"><div class=\"menus\"><A target=\"_blank\" rel=\"nofollow\" HREF=\"https://dspk.kindredplc.com/redirect.aspx?pid=22043687&bid=30989\"><B>32Red Poker</B></A></div></td></tr>\\r\\n<tr><td class=\"menustd\"><div class=\"menus\"><A target=\"_blank\" rel=\"nofollow\" HREF=\"http://ads2.williamhill.com/redirect.aspx?pid=9332&bid=1487416131\"><B>William Hill</B></A></div></td></tr>\\r\\n<tr><td class=\"menustd\"><div class=\"menus\"><A target=\"_blank\" rel=\"nofollow\" HREF=\"https://media.paddypower.com/redirect.aspx?pid=7091&bid=7064\"><B>Paddy Power</B></A></div></td></tr>\\r\\n<!--\\r\\n<tr><td class=\"menustd\"><div class=\"menus\"><A target=\"_blank\" rel=\"nofollow\" HREF=\"https://partners.ladbrokes.com/C.ashx?btag=a_2462b_487c_&affid=1209&siteid=2462&adid=487&c=\"><B>Ladbrokes</B></A></div></td></tr>\\r\\n  -->\\r\\n<tr><td class=\"menustd\"><div class=\"menus\"><A target=\"_blank\" rel=\"nofollow\" HREF=\"https://poker.betway.com/?s=wgs20821&BannerTag=84&mid=14939\"><B>Betway</B></A></div></td></tr>\\r\\n</table><BR>\\r\\n\\r\\n</TD>\\r\\n\\r\\n<td width=10></td>\\r\\n\\r\\n<TD valign=top>\\r\\n\\r\\n\\r\\n\\r\\n<P align=left>\\r\\n<IMG align=right SRC=\"flags/England.gif\" BORDER=\"0\" ALIGN=\"Absmiddle\"><B>Data Files: England</B><BR>\\r\\n<I>Last updated: \\t15/03/20</I><BR><BR>\\r\\n\\r\\n<P align=justify>Registering with any of the advertised bookmakers on <A HREF=\"http://freebets.football-data.co.uk\">Football-Data</A> will help keep access to the historical results & betting odds data files FREE.</P>\\r\\n\\r\\n<iframe allowtransparency=\"true\" src=\"https://media.paddypower.com/ad.aspx?bid=6933&pid=92701\" width=\"468\" height=\"60\" marginwidth=\"0\" marginheight=\"0\" hspace=\"0\" vspace=\"0\" frameborder=\"0\" scrolling=\"no\"></iframe><P>\\r\\n\\r\\n\\r\\n<P align=justify>Below you will find download links to all available CSV data files to use for quantitative testing of betting systems in spreadsheet applications like Excel. League tables, head2head statistics and information on goalscrores, first scorers and top scorers can now be accessed through the <A HREF=\"http://livescore.football-data.co.uk\">Livescore</A> service. Latest betting odds are available through the <A HREF=\"http://football-data.bestbetting.com\">Odds Comparison</A>.</P>\\r\\n\\r\\n<P align=justify>You are free experiment with the data yourselves, but if you are looking for a bespoke Excel application that has been desinged specifically to work with Football-Data\\'s files, visit  <A target=\"_blank\" HREF=\"http://www.betgps.com/betting-data.php\">BetGPS</A> for an exceptional data analysis workbook. Like all of Football-Data\\'s files, it free to download.</P>\\r\\n\\r\\n<A HREF=\"notes.txt\">Notes.txt</A> <BR><FONT SIZE=\"1\">(text file key to the data files and data source acknowledgements)</FONT><BR><BR>\\r\\n\\r\\n<I>Season 2019/2020</I><BR>\\r\\n<IMG SRC=\"Excel.gif\" BORDER=\"0\" ALIGN=\"Absmiddle\">&nbsp;&nbsp;<A HREF=\"mmz4281/1920/E0.csv\">Premier League</A> <FONT SIZE=\"1\">(FT & HT results; match stats; match, total goals & AH odds)</FONT><BR>\\r\\n<IMG SRC=\"Excel.gif\" BORDER=\"0\" ALIGN=\"Absmiddle\">&nbsp;&nbsp;<A HREF=\"mmz4281/1920/E1.csv\">Championship</A> <FONT SIZE=\"1\">(FT & HT results; match stats; match, total goals & AH odds)</FONT><BR>\\r\\n<IMG SRC=\"Excel.gif\" BORDER=\"0\" ALIGN=\"Absmiddle\">&nbsp;&nbsp;<A HREF=\"mmz4281/1920/E2.csv\">League 1</A> <FONT SIZE=\"1\">(FT & HT results; match stats; match, total goals & AH odds)</FONT><BR>\\r\\n<IMG SRC=\"Excel.gif\" BORDER=\"0\" ALIGN=\"Absmiddle\">&nbsp;&nbsp;<A HREF=\"mmz4281/1920/E3.csv\">League 2</A> <FONT SIZE=\"1\">(FT & HT results; match stats; match, total goals & AH odds)</FONT><BR>\\r\\n<IMG SRC=\"Excel.gif\" BORDER=\"0\" ALIGN=\"Absmiddle\">&nbsp;&nbsp;<A HREF=\"mmz4281/1920/EC.csv\">Conference</A> <FONT SIZE=\"1\">(FT & HT results; match, total goals & AH odds)</FONT><BR><BR>\\r\\n\\r\\n<I>Season 2018/2019</I><BR>\\r\\n<IMG SRC=\"Excel.gif\" BORDER=\"0\" ALIGN=\"Absmiddle\">&nbsp;&nbsp;<A HREF=\"mmz4281/1819/E0.csv\">Premier League</A> <FONT SIZE=\"1\">(FT & HT results; match stats; match, total goals & AH odds)</FONT><BR>\\r\\n<IMG SRC=\"Excel.gif\" BORDER=\"0\" ALIGN=\"Absmiddle\">&nbsp;&nbsp;<A HREF=\"mmz4281/1819/E1.csv\">Championship</A> <FONT SIZE=\"1\">(FT & HT results; match stats; match, total goals & AH odds)</FONT><BR>\\r\\n<IMG SRC=\"Excel.gif\" BORDER=\"0\" ALIGN=\"Absmiddle\">&nbsp;&nbsp;<A HREF=\"mmz4281/1819/E2.csv\">League 1</A> <FONT SIZE=\"1\">(FT & HT results; match stats; match, total goals & AH odds)</FONT><BR>\\r\\n<IMG SRC=\"Excel.gif\" BORDER=\"0\" ALIGN=\"Absmiddle\">&nbsp;&nbsp;<A HREF=\"mmz4281/1819/E3.csv\">League 2</A> <FONT SIZE=\"1\">(FT & HT results; match stats; match, total goals & AH odds)</FONT><BR>\\r\\n<IMG SRC=\"Excel.gif\" BORDER=\"0\" ALIGN=\"Absmiddle\">&nbsp;&nbsp;<A HREF=\"mmz4281/1819/EC.csv\">Conference</A> <FONT SIZE=\"1\">(FT & HT results; match, total goals & AH odds)</FONT><BR><BR>\\r\\n\\r\\n<I>Season 2017/2018</I><BR>\\r\\n<IMG SRC=\"Excel.gif\" BORDER=\"0\" ALIGN=\"Absmiddle\">&nbsp;&nbsp;<A HREF=\"mmz4281/1718/E0.csv\">Premier League</A> <FONT SIZE=\"1\">(FT & HT results; match stats; match, total goals & AH odds)</FONT><BR>\\r\\n<IMG SRC=\"Excel.gif\" BORDER=\"0\" ALIGN=\"Absmiddle\">&nbsp;&nbsp;<A HREF=\"mmz4281/1718/E1.csv\">Championship</A> <FONT SIZE=\"1\">(FT & HT results; match stats; match, total goals & AH odds)</FONT><BR>\\r\\n<IMG SRC=\"Excel.gif\" BORDER=\"0\" ALIGN=\"Absmiddle\">&nbsp;&nbsp;<A HREF=\"mmz4281/1718/E2.csv\">League 1</A> <FONT SIZE=\"1\">(FT & HT results; match stats; match, total goals & AH odds)</FONT><BR>\\r\\n<IMG SRC=\"Excel.gif\" BORDER=\"0\" ALIGN=\"Absmiddle\">&nbsp;&nbsp;<A HREF=\"mmz4281/1718/E3.csv\">League 2</A> <FONT SIZE=\"1\">(FT & HT results; match stats; match, total goals & AH odds)</FONT><BR>\\r\\n<IMG SRC=\"Excel.gif\" BORDER=\"0\" ALIGN=\"Absmiddle\">&nbsp;&nbsp;<A HREF=\"mmz4281/1718/EC.csv\">Conference</A> <FONT SIZE=\"1\">(FT & HT results; match, total goals & AH odds)</FONT><BR><BR>\\r\\n\\r\\n<I>Season 2016/2017</I><BR>\\r\\n<IMG SRC=\"Excel.gif\" BORDER=\"0\" ALIGN=\"Absmiddle\">&nbsp;&nbsp;<A HREF=\"mmz4281/1617/E0.csv\">Premier League</A> <FONT SIZE=\"1\">(FT & HT results; match stats; match, total goals & AH odds)</FONT><BR>\\r\\n<IMG SRC=\"Excel.gif\" BORDER=\"0\" ALIGN=\"Absmiddle\">&nbsp;&nbsp;<A HREF=\"mmz4281/1617/E1.csv\">Championship</A> <FONT SIZE=\"1\">(FT & HT results; match stats; match, total goals & AH odds)</FONT><BR>\\r\\n<IMG SRC=\"Excel.gif\" BORDER=\"0\" ALIGN=\"Absmiddle\">&nbsp;&nbsp;<A HREF=\"mmz4281/1617/E2.csv\">League 1</A> <FONT SIZE=\"1\">(FT & HT results; match stats; match, total goals & AH odds)</FONT><BR>\\r\\n<IMG SRC=\"Excel.gif\" BORDER=\"0\" ALIGN=\"Absmiddle\">&nbsp;&nbsp;<A HREF=\"mmz4281/1617/E3.csv\">League 2</A> <FONT SIZE=\"1\">(FT & HT results; match stats; match, total goals & AH odds)</FONT><BR>\\r\\n<IMG SRC=\"Excel.gif\" BORDER=\"0\" ALIGN=\"Absmiddle\">&nbsp;&nbsp;<A HREF=\"mmz4281/1617/EC.csv\">Conference</A> <FONT SIZE=\"1\">(FT & HT results; match, total goals & AH odds)</FONT><BR><BR>\\r\\n\\r\\n<I>Season 2015/2016</I><BR>\\r\\n<IMG SRC=\"Excel.gif\" BORDER=\"0\" ALIGN=\"Absmiddle\">&nbsp;&nbsp;<A HREF=\"mmz4281/1516/E0.csv\">Premier League</A> <FONT SIZE=\"1\">(FT & HT results; match stats; match, total goals & AH odds)</FONT><BR>\\r\\n<IMG SRC=\"Excel.gif\" BORDER=\"0\" ALIGN=\"Absmiddle\">&nbsp;&nbsp;<A HREF=\"mmz4281/1516/E1.csv\">Championship</A> <FONT SIZE=\"1\">(FT & HT results; match stats; match, total goals & AH odds)</FONT><BR>\\r\\n<IMG SRC=\"Excel.gif\" BORDER=\"0\" ALIGN=\"Absmiddle\">&nbsp;&nbsp;<A HREF=\"mmz4281/1516/E2.csv\">League 1</A> <FONT SIZE=\"1\">(FT & HT results; match stats; match, total goals & AH odds)</FONT><BR>\\r\\n<IMG SRC=\"Excel.gif\" BORDER=\"0\" ALIGN=\"Absmiddle\">&nbsp;&nbsp;<A HREF=\"mmz4281/1516/E3.csv\">League 2</A> <FONT SIZE=\"1\">(FT & HT results; match stats; match, total goals & AH odds)</FONT><BR>\\r\\n<IMG SRC=\"Excel.gif\" BORDER=\"0\" ALIGN=\"Absmiddle\">&nbsp;&nbsp;<A HREF=\"mmz4281/1516/EC.csv\">Conference</A> <FONT SIZE=\"1\">(FT & HT results; match stats; match, total goals & AH odds)</FONT><BR><BR>\\r\\n\\r\\n<I>Season 2014/2015</I><BR>\\r\\n<IMG SRC=\"Excel.gif\" BORDER=\"0\" ALIGN=\"Absmiddle\">&nbsp;&nbsp;<A HREF=\"mmz4281/1415/E0.csv\">Premier League</A> <FONT SIZE=\"1\">(FT & HT results; match stats; match, total goals & AH odds)</FONT><BR>\\r\\n<IMG SRC=\"Excel.gif\" BORDER=\"0\" ALIGN=\"Absmiddle\">&nbsp;&nbsp;<A HREF=\"mmz4281/1415/E1.csv\">Championship</A> <FONT SIZE=\"1\">(FT & HT results; match stats; match, total goals & AH odds)</FONT><BR>\\r\\n<IMG SRC=\"Excel.gif\" BORDER=\"0\" ALIGN=\"Absmiddle\">&nbsp;&nbsp;<A HREF=\"mmz4281/1415/E2.csv\">League 1</A> <FONT SIZE=\"1\">(FT & HT results; match stats; match, total goals & AH odds)</FONT><BR>\\r\\n<IMG SRC=\"Excel.gif\" BORDER=\"0\" ALIGN=\"Absmiddle\">&nbsp;&nbsp;<A HREF=\"mmz4281/1415/E3.csv\">League 2</A> <FONT SIZE=\"1\">(FT & HT results; match stats; match, total goals & AH odds)</FONT><BR>\\r\\n<IMG SRC=\"Excel.gif\" BORDER=\"0\" ALIGN=\"Absmiddle\">&nbsp;&nbsp;<A HREF=\"mmz4281/1415/EC.csv\">Conference</A> <FONT SIZE=\"1\">(FT & HT results; match stats; match, total goals & AH odds)</FONT><BR><BR>\\r\\n\\r\\n<I>Season 2013/2014</I><BR>\\r\\n<IMG SRC=\"Excel.gif\" BORDER=\"0\" ALIGN=\"Absmiddle\">&nbsp;&nbsp;<A HREF=\"mmz4281/1314/E0.csv\">Premier League</A> <FONT SIZE=\"1\">(FT & HT results; match stats; match, total goals & AH odds)</FONT><BR>\\r\\n<IMG SRC=\"Excel.gif\" BORDER=\"0\" ALIGN=\"Absmiddle\">&nbsp;&nbsp;<A HREF=\"mmz4281/1314/E1.csv\">Championship</A> <FONT SIZE=\"1\">(FT & HT results; match stats; match, total goals & AH odds)</FONT><BR>\\r\\n<IMG SRC=\"Excel.gif\" BORDER=\"0\" ALIGN=\"Absmiddle\">&nbsp;&nbsp;<A HREF=\"mmz4281/1314/E2.csv\">League 1</A> <FONT SIZE=\"1\">(FT & HT results; match stats; match, total goals & AH odds)</FONT><BR>\\r\\n<IMG SRC=\"Excel.gif\" BORDER=\"0\" ALIGN=\"Absmiddle\">&nbsp;&nbsp;<A HREF=\"mmz4281/1314/E3.csv\">League 2</A> <FONT SIZE=\"1\">(FT & HT results; match stats; match, total goals & AH odds)</FONT><BR>\\r\\n<IMG SRC=\"Excel.gif\" BORDER=\"0\" ALIGN=\"Absmiddle\">&nbsp;&nbsp;<A HREF=\"mmz4281/1314/EC.csv\">Conference</A> <FONT SIZE=\"1\">(FT & HT results; match stats; match, total goals & AH odds)</FONT><BR><BR>\\r\\n\\r\\n<I>Season 2012/2013</I><BR>\\r\\n<IMG SRC=\"Excel.gif\" BORDER=\"0\" ALIGN=\"Absmiddle\">&nbsp;&nbsp;<A HREF=\"mmz4281/1213/E0.csv\">Premier League</A> <FONT SIZE=\"1\">(FT & HT results; match stats; match, total goals & AH odds)</FONT><BR>\\r\\n<IMG SRC=\"Excel.gif\" BORDER=\"0\" ALIGN=\"Absmiddle\">&nbsp;&nbsp;<A HREF=\"mmz4281/1213/E1.csv\">Championship</A> <FONT SIZE=\"1\">(FT & HT results; match stats; match, total goals & AH odds)</FONT><BR>\\r\\n<IMG SRC=\"Excel.gif\" BORDER=\"0\" ALIGN=\"Absmiddle\">&nbsp;&nbsp;<A HREF=\"mmz4281/1213/E2.csv\">League 1</A> <FONT SIZE=\"1\">(FT & HT results; match stats; match, total goals & AH odds)</FONT><BR>\\r\\n<IMG SRC=\"Excel.gif\" BORDER=\"0\" ALIGN=\"Absmiddle\">&nbsp;&nbsp;<A HREF=\"mmz4281/1213/E3.csv\">League 2</A> <FONT SIZE=\"1\">(FT & HT results; match stats; match, total goals & AH odds)</FONT><BR>\\r\\n<IMG SRC=\"Excel.gif\" BORDER=\"0\" ALIGN=\"Absmiddle\">&nbsp;&nbsp;<A HREF=\"mmz4281/1213/EC.csv\">Conference</A> <FONT SIZE=\"1\">(FT & HT results; match stats; match, total goals & AH odds)</FONT><BR><BR>\\r\\n\\r\\n<I>Season 2011/2012</I><BR>\\r\\n<IMG SRC=\"Excel.gif\" BORDER=\"0\" ALIGN=\"Absmiddle\">&nbsp;&nbsp;<A HREF=\"mmz4281/1112/E0.csv\">Premier League</A> <FONT SIZE=\"1\">(FT & HT results; match stats; match, total goals & AH odds)</FONT><BR>\\r\\n<IMG SRC=\"Excel.gif\" BORDER=\"0\" ALIGN=\"Absmiddle\">&nbsp;&nbsp;<A HREF=\"mmz4281/1112/E1.csv\">Championship</A> <FONT SIZE=\"1\">(FT & HT results; match stats; match, total goals & AH odds)</FONT><BR>\\r\\n<IMG SRC=\"Excel.gif\" BORDER=\"0\" ALIGN=\"Absmiddle\">&nbsp;&nbsp;<A HREF=\"mmz4281/1112/E2.csv\">League 1</A> <FONT SIZE=\"1\">(FT & HT results; match stats; match, total goals & AH odds)</FONT><BR>\\r\\n<IMG SRC=\"Excel.gif\" BORDER=\"0\" ALIGN=\"Absmiddle\">&nbsp;&nbsp;<A HREF=\"mmz4281/1112/E3.csv\">League 2</A> <FONT SIZE=\"1\">(FT & HT results; match stats; match, total goals & AH odds)</FONT><BR>\\r\\n<IMG SRC=\"Excel.gif\" BORDER=\"0\" ALIGN=\"Absmiddle\">&nbsp;&nbsp;<A HREF=\"mmz4281/1112/EC.csv\">Conference</A> <FONT SIZE=\"1\">(FT & HT results; match stats; match, total goals & AH odds)</FONT><BR><BR>\\r\\n\\r\\n<I>Season 2010/2011</I><BR>\\r\\n<IMG SRC=\"Excel.gif\" BORDER=\"0\" ALIGN=\"Absmiddle\">&nbsp;&nbsp;<A HREF=\"mmz4281/1011/E0.csv\">Premier League</A> <FONT SIZE=\"1\">(FT & HT results; match stats; match, total goals & AH odds)</FONT><BR>\\r\\n<IMG SRC=\"Excel.gif\" BORDER=\"0\" ALIGN=\"Absmiddle\">&nbsp;&nbsp;<A HREF=\"mmz4281/1011/E1.csv\">Championship</A> <FONT SIZE=\"1\">(FT & HT results; match stats; match, total goals & AH odds)</FONT><BR>\\r\\n<IMG SRC=\"Excel.gif\" BORDER=\"0\" ALIGN=\"Absmiddle\">&nbsp;&nbsp;<A HREF=\"mmz4281/1011/E2.csv\">League 1</A> <FONT SIZE=\"1\">(FT & HT results; match stats; match, total goals & AH odds)</FONT><BR>\\r\\n<IMG SRC=\"Excel.gif\" BORDER=\"0\" ALIGN=\"Absmiddle\">&nbsp;&nbsp;<A HREF=\"mmz4281/1011/E3.csv\">League 2</A> <FONT SIZE=\"1\">(FT & HT results; match stats; match, total goals & AH odds)</FONT><BR>\\r\\n<IMG SRC=\"Excel.gif\" BORDER=\"0\" ALIGN=\"Absmiddle\">&nbsp;&nbsp;<A HREF=\"mmz4281/1011/EC.csv\">Conference</A> <FONT SIZE=\"1\">(FT & HT results; match stats; match, total goals & AH odds)</FONT><BR><BR>\\r\\n\\r\\n<I>Season 2009/2010</I><BR>\\r\\n<IMG SRC=\"Excel.gif\" BORDER=\"0\" ALIGN=\"Absmiddle\">&nbsp;&nbsp;<A HREF=\"mmz4281/0910/E0.csv\">Premier League</A> <FONT SIZE=\"1\">(FT & HT results; match stats; match, total goals & AH odds)</FONT><BR>\\r\\n<IMG SRC=\"Excel.gif\" BORDER=\"0\" ALIGN=\"Absmiddle\">&nbsp;&nbsp;<A HREF=\"mmz4281/0910/E1.csv\">Championship</A> <FONT SIZE=\"1\">(FT & HT results; match stats; match, total goals & AH odds)</FONT><BR>\\r\\n<IMG SRC=\"Excel.gif\" BORDER=\"0\" ALIGN=\"Absmiddle\">&nbsp;&nbsp;<A HREF=\"mmz4281/0910/E2.csv\">League 1</A> <FONT SIZE=\"1\">(FT & HT results; match stats; match, total goals & AH odds)</FONT><BR>\\r\\n<IMG SRC=\"Excel.gif\" BORDER=\"0\" ALIGN=\"Absmiddle\">&nbsp;&nbsp;<A HREF=\"mmz4281/0910/E3.csv\">League 2</A> <FONT SIZE=\"1\">(FT & HT results; match stats; match, total goals & AH odds)</FONT><BR>\\r\\n<IMG SRC=\"Excel.gif\" BORDER=\"0\" ALIGN=\"Absmiddle\">&nbsp;&nbsp;<A HREF=\"mmz4281/0910/EC.csv\">Conference</A> <FONT SIZE=\"1\">(FT & HT results; match stats; match, total goals & AH odds)</FONT><BR><BR>\\r\\n\\r\\n<I>Season 2008/2009</I><BR>\\r\\n<IMG SRC=\"Excel.gif\" BORDER=\"0\" ALIGN=\"Absmiddle\">&nbsp;&nbsp;<A HREF=\"mmz4281/0809/E0.csv\">Premier League</A> <FONT SIZE=\"1\">(FT & HT results; match stats; match, total goals & AH odds)</FONT><BR>\\r\\n<IMG SRC=\"Excel.gif\" BORDER=\"0\" ALIGN=\"Absmiddle\">&nbsp;&nbsp;<A HREF=\"mmz4281/0809/E1.csv\">Championship</A> <FONT SIZE=\"1\">(FT & HT results; match stats; match, total goals & AH odds)</FONT><BR>\\r\\n<IMG SRC=\"Excel.gif\" BORDER=\"0\" ALIGN=\"Absmiddle\">&nbsp;&nbsp;<A HREF=\"mmz4281/0809/E2.csv\">League 1</A> <FONT SIZE=\"1\">(FT & HT results; match stats; match, total goals & AH odds)</FONT><BR>\\r\\n<IMG SRC=\"Excel.gif\" BORDER=\"0\" ALIGN=\"Absmiddle\">&nbsp;&nbsp;<A HREF=\"mmz4281/0809/E3.csv\">League 2</A> <FONT SIZE=\"1\">(FT & HT results; match stats; match, total goals & AH odds)</FONT><BR>\\r\\n<IMG SRC=\"Excel.gif\" BORDER=\"0\" ALIGN=\"Absmiddle\">&nbsp;&nbsp;<A HREF=\"mmz4281/0809/EC.csv\">Conference</A> <FONT SIZE=\"1\">(FT & HT results; match stats; match, total goals & AH odds)</FONT><BR><BR>\\r\\n\\r\\n<I>Season 2007/2008</I><BR>\\r\\n<IMG SRC=\"Excel.gif\" BORDER=\"0\" ALIGN=\"Absmiddle\">&nbsp;&nbsp;<A HREF=\"mmz4281/0708/E0.csv\">Premier League</A> <FONT SIZE=\"1\">(FT & HT results; match stats; match, total goals & AH odds)</FONT><BR>\\r\\n<IMG SRC=\"Excel.gif\" BORDER=\"0\" ALIGN=\"Absmiddle\">&nbsp;&nbsp;<A HREF=\"mmz4281/0708/E1.csv\">Championship</A> <FONT SIZE=\"1\">(FT & HT results; match stats; match, total goals & AH odds)</FONT><BR>\\r\\n<IMG SRC=\"Excel.gif\" BORDER=\"0\" ALIGN=\"Absmiddle\">&nbsp;&nbsp;<A HREF=\"mmz4281/0708/E2.csv\">League 1</A> <FONT SIZE=\"1\">(FT & HT results; match stats; match, total goals & AH odds)</FONT><BR>\\r\\n<IMG SRC=\"Excel.gif\" BORDER=\"0\" ALIGN=\"Absmiddle\">&nbsp;&nbsp;<A HREF=\"mmz4281/0708/E3.csv\">League 2</A> <FONT SIZE=\"1\">(FT & HT results; match stats; match, total goals & AH odds)</FONT><BR>\\r\\n<IMG SRC=\"Excel.gif\" BORDER=\"0\" ALIGN=\"Absmiddle\">&nbsp;&nbsp;<A HREF=\"mmz4281/0708/EC.csv\">Conference</A> <FONT SIZE=\"1\">(FT & HT results; match stats; match, total goals & AH odds)</FONT><BR><BR>\\r\\n\\r\\n<I>Season 2006/2007</I><BR>\\r\\n<IMG SRC=\"Excel.gif\" BORDER=\"0\" ALIGN=\"Absmiddle\">&nbsp;&nbsp;<A HREF=\"mmz4281/0607/E0.csv\">Premier League</A> <FONT SIZE=\"1\">(FT & HT results; match stats; match, total goals & AH odds)</FONT><BR>\\r\\n<IMG SRC=\"Excel.gif\" BORDER=\"0\" ALIGN=\"Absmiddle\">&nbsp;&nbsp;<A HREF=\"mmz4281/0607/E1.csv\">Championship</A> <FONT SIZE=\"1\">(FT & HT results; match stats; match, total goals & AH odds)</FONT><BR>\\r\\n<IMG SRC=\"Excel.gif\" BORDER=\"0\" ALIGN=\"Absmiddle\">&nbsp;&nbsp;<A HREF=\"mmz4281/0607/E2.csv\">League 1</A> <FONT SIZE=\"1\">(FT & HT results; match stats; match, total goals & AH odds)</FONT><BR>\\r\\n<IMG SRC=\"Excel.gif\" BORDER=\"0\" ALIGN=\"Absmiddle\">&nbsp;&nbsp;<A HREF=\"mmz4281/0607/E3.csv\">League 2</A> <FONT SIZE=\"1\">(FT & HT results; match stats; match, total goals & AH odds)</FONT><BR>\\r\\n<IMG SRC=\"Excel.gif\" BORDER=\"0\" ALIGN=\"Absmiddle\">&nbsp;&nbsp;<A HREF=\"mmz4281/0607/EC.csv\">Conference</A> <FONT SIZE=\"1\">(FT & HT results; match stats; match, total goals & AH odds)</FONT><BR><BR>\\r\\n\\r\\n\\r\\n<I>Season 2005/2006</I><BR>\\r\\n<IMG SRC=\"Excel.gif\" BORDER=\"0\" ALIGN=\"Absmiddle\">&nbsp;&nbsp;<A HREF=\"mmz4281/0506/E0.csv\">Premier League</A> <FONT SIZE=\"1\">(FT & HT results; match stats; match, total goals & AH odds)</FONT><BR>\\r\\n<IMG SRC=\"Excel.gif\" BORDER=\"0\" ALIGN=\"Absmiddle\">&nbsp;&nbsp;<A HREF=\"mmz4281/0506/E1.csv\">Championship</A> <FONT SIZE=\"1\">(FT & HT results; match stats; match, total goals & AH odds)</FONT><BR>\\r\\n<IMG SRC=\"Excel.gif\" BORDER=\"0\" ALIGN=\"Absmiddle\">&nbsp;&nbsp;<A HREF=\"mmz4281/0506/E2.csv\">League 1</A> <FONT SIZE=\"1\">(FT & HT results; match stats; match, total goals & AH odds)</FONT><BR>\\r\\n<IMG SRC=\"Excel.gif\" BORDER=\"0\" ALIGN=\"Absmiddle\">&nbsp;&nbsp;<A HREF=\"mmz4281/0506/E3.csv\">League 2</A> <FONT SIZE=\"1\">(FT & HT results; match stats; match, total goals & AH odds)</FONT><BR>\\r\\n<IMG SRC=\"Excel.gif\" BORDER=\"0\" ALIGN=\"Absmiddle\">&nbsp;&nbsp;<A HREF=\"mmz4281/0506/EC.csv\">Conference</A> <FONT SIZE=\"1\">(FT & HT results; match stats; match, total goals & AH odds)</FONT><BR><BR>\\r\\n\\r\\n<I>Season 2004/2005</I><BR>\\r\\n<IMG SRC=\"Excel.gif\" BORDER=\"0\" ALIGN=\"Absmiddle\">&nbsp;&nbsp;<A HREF=\"mmz4281/0405/E0.csv\">Premier League</A> <FONT SIZE=\"1\">(FT & HT results; match stats; match, total goals & AH odds)</FONT><BR>\\r\\n<IMG SRC=\"Excel.gif\" BORDER=\"0\" ALIGN=\"Absmiddle\">&nbsp;&nbsp;<A HREF=\"mmz4281/0405/E1.csv\">Championship</A> <FONT SIZE=\"1\">(FT & HT results; match stats; match, total goals & AH odds)</FONT><BR>\\r\\n<IMG SRC=\"Excel.gif\" BORDER=\"0\" ALIGN=\"Absmiddle\">&nbsp;&nbsp;<A HREF=\"mmz4281/0405/E2.csv\">League 1</A> <FONT SIZE=\"1\">(FT & HT results; match stats; match, total goals & AH odds)</FONT><BR>\\r\\n<IMG SRC=\"Excel.gif\" BORDER=\"0\" ALIGN=\"Absmiddle\">&nbsp;&nbsp;<A HREF=\"mmz4281/0405/E3.csv\">League 2</A> <FONT SIZE=\"1\">(FT & HT results; match stats; match, total goals & AH odds)</FONT><BR><BR>\\r\\n\\r\\n<I>Season 2003/2004</I><BR>\\r\\n<IMG SRC=\"Excel.gif\" BORDER=\"0\" ALIGN=\"Absmiddle\">&nbsp;&nbsp;<A HREF=\"mmz4281/0304/E0.csv\">Premier League</A> <FONT SIZE=\"1\">(FT & HT results; match stats; match, total goals & AH odds)</FONT><BR>\\r\\n<IMG SRC=\"Excel.gif\" BORDER=\"0\" ALIGN=\"Absmiddle\">&nbsp;&nbsp;<A HREF=\"mmz4281/0304/E1.csv\">Division 1</A> <FONT SIZE=\"1\">(FT & HT results; match stats; match, total goals & AH odds)</FONT><BR>\\r\\n<IMG SRC=\"Excel.gif\" BORDER=\"0\" ALIGN=\"Absmiddle\">&nbsp;&nbsp;<A HREF=\"mmz4281/0304/E2.csv\">Division 2</A> <FONT SIZE=\"1\">(FT & HT results; match stats; match and total goals odds)</FONT><BR>\\r\\n<IMG SRC=\"Excel.gif\" BORDER=\"0\" ALIGN=\"Absmiddle\">&nbsp;&nbsp;<A HREF=\"mmz4281/0304/E3.csv\">Division 3</A> <FONT SIZE=\"1\">(FT & HT results; match stats; match and total goals odds)</FONT><BR><BR>\\r\\n\\r\\n<I>Season 2002/2003</I><BR>\\r\\n<IMG SRC=\"Excel.gif\" BORDER=\"0\" ALIGN=\"Absmiddle\">&nbsp;&nbsp;<A HREF=\"mmz4281/0203/E0.csv\">Premier League</A> <FONT SIZE=\"1\">(FT & HT results, match stats, match and total goals odds)</FONT><BR>\\r\\n<IMG SRC=\"Excel.gif\" BORDER=\"0\" ALIGN=\"Absmiddle\">&nbsp;&nbsp;<A HREF=\"mmz4281/0203/E1.csv\">Division 1</A> <FONT SIZE=\"1\">(FT & HT results, match stats, match and total goals odds)</FONT><BR>\\r\\n<IMG SRC=\"Excel.gif\" BORDER=\"0\" ALIGN=\"Absmiddle\">&nbsp;&nbsp;<A HREF=\"mmz4281/0203/E2.csv\">Division 2</A> <FONT SIZE=\"1\">(FT & HT results, match stats, match odds)</FONT><BR>\\r\\n<IMG SRC=\"Excel.gif\" BORDER=\"0\" ALIGN=\"Absmiddle\">&nbsp;&nbsp;<A HREF=\"mmz4281/0203/E3.csv\">Division 3</A> <FONT SIZE=\"1\">(FT & HT results, match stats, match odds)</FONT><BR><BR>\\r\\n\\r\\n<I>Season 2001/2002</I><BR>\\r\\n<IMG SRC=\"Excel.gif\" BORDER=\"0\" ALIGN=\"Absmiddle\">&nbsp;&nbsp;<A HREF=\"mmz4281/0102/E0.csv\">Premier League</A> <FONT SIZE=\"1\">(FT & HT results, match stats and match odds)</FONT><BR>\\r\\n<IMG SRC=\"Excel.gif\" BORDER=\"0\" ALIGN=\"Absmiddle\">&nbsp;&nbsp;<A HREF=\"mmz4281/0102/E1.csv\">Division 1</A> <FONT SIZE=\"1\">(FT & HT results, match stats and match odds)</FONT><BR>\\r\\n<IMG SRC=\"Excel.gif\" BORDER=\"0\" ALIGN=\"Absmiddle\">&nbsp;&nbsp;<A HREF=\"mmz4281/0102/E2.csv\">Division 2</A> <FONT SIZE=\"1\">(FT & HT results, match stats and match odds)</FONT><BR>\\r\\n<IMG SRC=\"Excel.gif\" BORDER=\"0\" ALIGN=\"Absmiddle\">&nbsp;&nbsp;<A HREF=\"mmz4281/0102/E3.csv\">Division 3</A> <FONT SIZE=\"1\">(FT & HT results, match stats and match odds)</FONT><BR><BR>\\r\\n\\r\\n<I>Season 2000/2001</I><BR>\\r\\n<IMG SRC=\"Excel.gif\" BORDER=\"0\" ALIGN=\"Absmiddle\">&nbsp;&nbsp;<A HREF=\"mmz4281/0001/E0.csv\">Premier League</A> <FONT SIZE=\"1\">(FT & HT results, match stats and match odds)</FONT><BR>\\r\\n<IMG SRC=\"Excel.gif\" BORDER=\"0\" ALIGN=\"Absmiddle\">&nbsp;&nbsp;<A HREF=\"mmz4281/0001/E1.csv\">Division 1</A> <FONT SIZE=\"1\">(FT & HT results, match stats and match odds)</FONT><BR>\\r\\n<IMG SRC=\"Excel.gif\" BORDER=\"0\" ALIGN=\"Absmiddle\">&nbsp;&nbsp;<A HREF=\"mmz4281/0001/E2.csv\">Division 2</A> <FONT SIZE=\"1\">(FT & HT results, match stats and match odds)</FONT><BR>\\r\\n<IMG SRC=\"Excel.gif\" BORDER=\"0\" ALIGN=\"Absmiddle\">&nbsp;&nbsp;<A HREF=\"mmz4281/0001/E3.csv\">Division 3</A> <FONT SIZE=\"1\">(FT & HT results, match stats and match odds)</FONT><BR><BR>\\r\\n\\r\\n<I>Season 1999/2000</I><BR>\\r\\n<IMG SRC=\"Excel.gif\" BORDER=\"0\" ALIGN=\"Absmiddle\">&nbsp;&nbsp;<A HREF=\"mmz4281/9900/E0.csv\">Premier League</A> <FONT SIZE=\"1\">(FT & HT results)</FONT><BR>\\r\\n<IMG SRC=\"Excel.gif\" BORDER=\"0\" ALIGN=\"Absmiddle\">&nbsp;&nbsp;<A HREF=\"mmz4281/9900/E1.csv\">Division 1</A> <FONT SIZE=\"1\">(FT & HT results)</FONT><BR>\\r\\n<IMG SRC=\"Excel.gif\" BORDER=\"0\" ALIGN=\"Absmiddle\">&nbsp;&nbsp;<A HREF=\"mmz4281/9900/E2.csv\">Division 2</A> <FONT SIZE=\"1\">(FT results)</FONT><BR>\\r\\n<IMG SRC=\"Excel.gif\" BORDER=\"0\" ALIGN=\"Absmiddle\">&nbsp;&nbsp;<A HREF=\"mmz4281/9900/E3.csv\">Division 3</A> <FONT SIZE=\"1\">(FT results)</FONT><BR><BR>\\r\\n\\r\\n<I>Season 1998/1999</I><BR>\\r\\n<IMG SRC=\"Excel.gif\" BORDER=\"0\" ALIGN=\"Absmiddle\">&nbsp;&nbsp;<A HREF=\"mmz4281/9899/E0.csv\">Premier League</A> <FONT SIZE=\"1\">(FT & HT results)</FONT><BR>\\r\\n<IMG SRC=\"Excel.gif\" BORDER=\"0\" ALIGN=\"Absmiddle\">&nbsp;&nbsp;<A HREF=\"mmz4281/9899/E1.csv\">Division 1</A> <FONT SIZE=\"1\">(FT & HT results)</FONT><BR>\\r\\n<IMG SRC=\"Excel.gif\" BORDER=\"0\" ALIGN=\"Absmiddle\">&nbsp;&nbsp;<A HREF=\"mmz4281/9899/E2.csv\">Division 2</A> <FONT SIZE=\"1\">(FT results)</FONT><BR>\\r\\n<IMG SRC=\"Excel.gif\" BORDER=\"0\" ALIGN=\"Absmiddle\">&nbsp;&nbsp;<A HREF=\"mmz4281/9899/E3.csv\">Division 3</A> <FONT SIZE=\"1\">(FT results)</FONT><BR><BR>\\r\\n\\r\\n<I>Season 1997/1998</I><BR>\\r\\n<IMG SRC=\"Excel.gif\" BORDER=\"0\" ALIGN=\"Absmiddle\">&nbsp;&nbsp;<A HREF=\"mmz4281/9798/E0.csv\">Premier League</A> <FONT SIZE=\"1\">(FT & HT results)</FONT><BR>\\r\\n<IMG SRC=\"Excel.gif\" BORDER=\"0\" ALIGN=\"Absmiddle\">&nbsp;&nbsp;<A HREF=\"mmz4281/9798/E1.csv\">Division 1</A> <FONT SIZE=\"1\">(FT & HT results)</FONT><BR>\\r\\n<IMG SRC=\"Excel.gif\" BORDER=\"0\" ALIGN=\"Absmiddle\">&nbsp;&nbsp;<A HREF=\"mmz4281/9798/E2.csv\">Division 2</A> <FONT SIZE=\"1\">(FT results)</FONT><BR>\\r\\n<IMG SRC=\"Excel.gif\" BORDER=\"0\" ALIGN=\"Absmiddle\">&nbsp;&nbsp;<A HREF=\"mmz4281/9798/E3.csv\">Division 3</A> <FONT SIZE=\"1\">(FT results)</FONT><BR><BR>\\r\\n\\r\\n<I>Season 1996/1997</I><BR>\\r\\n<IMG SRC=\"Excel.gif\" BORDER=\"0\" ALIGN=\"Absmiddle\">&nbsp;&nbsp;<A HREF=\"mmz4281/9697/E0.csv\">Premier League</A> <FONT SIZE=\"1\">(FT & HT results)</FONT><BR>\\r\\n<IMG SRC=\"Excel.gif\" BORDER=\"0\" ALIGN=\"Absmiddle\">&nbsp;&nbsp;<A HREF=\"mmz4281/9697/E1.csv\">Division 1</A> <FONT SIZE=\"1\">(FT results)</FONT><BR>\\r\\n<IMG SRC=\"Excel.gif\" BORDER=\"0\" ALIGN=\"Absmiddle\">&nbsp;&nbsp;<A HREF=\"mmz4281/9697/E2.csv\">Division 2</A> <FONT SIZE=\"1\">(FT results)</FONT><BR>\\r\\n<IMG SRC=\"Excel.gif\" BORDER=\"0\" ALIGN=\"Absmiddle\">&nbsp;&nbsp;<A HREF=\"mmz4281/9697/E3.csv\">Division 3</A> <FONT SIZE=\"1\">(FT results)</FONT><BR><BR>\\r\\n\\r\\n<I>Season 1995/1996</I><BR>\\r\\n<IMG SRC=\"Excel.gif\" BORDER=\"0\" ALIGN=\"Absmiddle\">&nbsp;&nbsp;<A HREF=\"mmz4281/9596/E0.csv\">Premier League</A> <FONT SIZE=\"1\">(FT & HT results)</FONT><BR>\\r\\n<IMG SRC=\"Excel.gif\" BORDER=\"0\" ALIGN=\"Absmiddle\">&nbsp;&nbsp;<A HREF=\"mmz4281/9596/E1.csv\">Division 1</A> <FONT SIZE=\"1\">(FT results)</FONT><BR>\\r\\n<IMG SRC=\"Excel.gif\" BORDER=\"0\" ALIGN=\"Absmiddle\">&nbsp;&nbsp;<A HREF=\"mmz4281/9596/E2.csv\">Division 2</A> <FONT SIZE=\"1\">(FT results)</FONT><BR>\\r\\n<IMG SRC=\"Excel.gif\" BORDER=\"0\" ALIGN=\"Absmiddle\">&nbsp;&nbsp;<A HREF=\"mmz4281/9596/E3.csv\">Division 3</A> <FONT SIZE=\"1\">(FT results)</FONT><BR><BR>\\r\\n\\r\\n<I>Season 1994/1995</I><BR>\\r\\n<IMG SRC=\"Excel.gif\" BORDER=\"0\" ALIGN=\"Absmiddle\">&nbsp;&nbsp;<A HREF=\"mmz4281/9495/E0.csv\">Premier League</A> <FONT SIZE=\"1\">(FT results)</FONT><BR>\\r\\n<IMG SRC=\"Excel.gif\" BORDER=\"0\" ALIGN=\"Absmiddle\">&nbsp;&nbsp;<A HREF=\"mmz4281/9495/E1.csv\">Division 1</A> <FONT SIZE=\"1\">(FT results)</FONT><BR>\\r\\n<IMG SRC=\"Excel.gif\" BORDER=\"0\" ALIGN=\"Absmiddle\">&nbsp;&nbsp;<A HREF=\"mmz4281/9495/E2.csv\">Division 2</A> <FONT SIZE=\"1\">(FT results)</FONT><BR>\\r\\n<IMG SRC=\"Excel.gif\" BORDER=\"0\" ALIGN=\"Absmiddle\">&nbsp;&nbsp;<A HREF=\"mmz4281/9495/E3.csv\">Division 3</A> <FONT SIZE=\"1\">(FT results)</FONT><BR><BR>\\r\\n\\r\\n<I>Season 1993/1994</I><BR>\\r\\n<IMG SRC=\"Excel.gif\" BORDER=\"0\" ALIGN=\"Absmiddle\">&nbsp;&nbsp;<A HREF=\"mmz4281/9394/E0.csv\">Premier League</A> <FONT SIZE=\"1\">(FT results)</FONT><BR>\\r\\n<IMG SRC=\"Excel.gif\" BORDER=\"0\" ALIGN=\"Absmiddle\">&nbsp;&nbsp;<A HREF=\"mmz4281/9394/E1.csv\">Division 1</A> <FONT SIZE=\"1\">(FT results)</FONT><BR>\\r\\n<IMG SRC=\"Excel.gif\" BORDER=\"0\" ALIGN=\"Absmiddle\">&nbsp;&nbsp;<A HREF=\"mmz4281/9394/E2.csv\">Division 2</A> <FONT SIZE=\"1\">(FT results)</FONT><BR>\\r\\n<IMG SRC=\"Excel.gif\" BORDER=\"0\" ALIGN=\"Absmiddle\">&nbsp;&nbsp;<A HREF=\"mmz4281/9394/E3.csv\">Division 3</A> <FONT SIZE=\"1\">(FT results)</FONT><BR><BR>\\r\\n\\r\\n\\r\\nContact <A HREF=\"contact.php\">Football-Data.co.uk</A> if you believe there are any errors in the data files.</P>\\r\\n\\r\\n\\r\\n</TD>\\r\\n\\r\\n<td width=10></td>\\r\\n\\r\\n<td valign=top width=152>\\r\\n\\r\\n<table width=\"100%\" border=\"0\" cellspacing=\"1\" cellpadding=\"1\" bgcolor=\"#999999\">\\r\\n<tr><td bgcolor=\"#AAAAAA\"><div class=\"menus\"><B><FONT COLOR=\"#FFFFFF\">SITE RESOURCES</FONT></B></div></td></tr>\\r\\n<tr><td class=\"menustd\"><div class=\"menus\"><A HREF=\"http://livescore.football-data.co.uk\"><B>Livescores</B></A></div></td></tr>\\r\\n<tr><td class=\"menustd\"><div class=\"menus\"><A title=\"historical football results and betting odds data archive\" HREF=\"https://www.football-data.co.uk/data.php\"><B>Historical Data</B></A> <A HREF=\"https://www.football-data.co.uk/data.php\"><IMG border=0 align=\"right\" SRC=\"https://www.football-data.co.uk/banner/excel2.png\"></A></div></td></tr>\\r\\n<tr><td class=\"menustd\"><div class=\"menus\"><A HREF=\"http://betting.football-data.co.uk\"><B>Betting Advice</B></A> <A HREF=\"http://betting.football-data.co.uk\"><IMG border=0 align=\"right\" SRC=\"https://www.football-data.co.uk/banner/note_information.png\"></A></div></td></tr>\\r\\n<tr><td class=\"menustd\"><div class=\"menus\"><A HREF=\"http://news.football-data.co.uk\"><B>Football News</B></A></div></td></tr>\\r\\n<tr><td class=\"menustd\"><div class=\"menus\"><A HREF=\"http://freebets.football-data.co.uk\"><B>Free Bets</B></A> <A HREF=\"http://freebets.football-data.co.uk\"><IMG border=0 align=\"right\" SRC=\"https://www.football-data.co.uk/banner/currency_pound_yellow.png\"></A></div></td></tr>\\r\\n<tr><td class=\"menustd\"><div class=\"menus\"><A HREF=\"http://odds.football-data.co.uk\"><B>Odds Comparison</B></A></div></td></tr>\\r\\n<tr><td class=\"menustd\"><div class=\"menus\"><A HREF=\"https://www.football-data.co.uk/ratings.pdf\"><b>Rating Systems</b></A> <A HREF=\"https://www.football-data.co.uk/ratings.pdf\"><IMG border=0 align=\"right\" SRC=\"https://www.football-data.co.uk/banner/pdf.png\"></A></div></td></tr>\\r\\n<tr><td class=\"menustd\"><div class=\"menus\"><A HREF=\"https://www.football-data.co.uk/resources/winabobatoo.php\"><b>Football Ratings</b></A></div></td></tr>\\r\\n<tr><td class=\"menustd\"><div class=\"menus\"><B><A HREF=\"https://www.football-data.co.uk/wisdom_of_crowd_bets\">Wisdom of Crowds</A></B></div></td></tr>\\r\\n<tr><td class=\"menustd\"><div class=\"menus\"><B><A HREF=\"https://www.football-data.co.uk/true_odds_calculator.xlsm\" TARGET=\"_blank\">True Odds</A>  <A HREF=\"https://www.football-data.co.uk/true_odds_calculator.xlsm\"><IMG border=0 align=\"right\" SRC=\"https://www.football-data.co.uk/banner/calculator.png\"></A></B></div></td></tr>\\r\\n<tr><td class=\"menustd\"><div class=\"menus\"><B><A HREF=\"https://www.football-data.co.uk/blog/P-value_calculator.xlsx\" TARGET=\"_blank\">Test your Bets</A>  <A HREF=\"https://www.football-data.co.uk/true_odds_calculator.xlsm\"><IMG border=0 align=\"right\" SRC=\"https://www.football-data.co.uk/banner/calculator.png\"></A></B></div></td></tr>\\r\\n<tr><td class=\"menustd\"><div class=\"menus\"><B><A HREF=\"https://www.football-data.co.uk/yield_distribution_calculator.xlsx\" TARGET=\"_blank\">Test your Bets 2</A>  <A HREF=\"https://www.football-data.co.uk/true_odds_calculator.xlsm\"><IMG border=0 align=\"right\" SRC=\"https://www.football-data.co.uk/banner/calculator.png\"></A></B></div></td></tr>\\r\\n<tr><td class=\"menustd\"><div class=\"menus\"><B><A HREF=\"https://www.football-data.co.uk/percentage_staking_bank_growth_distribution_calculator.xlsx\" TARGET=\"_blank\">Test your Bets 3</A>  <A HREF=\"https://www.football-data.co.uk/true_odds_calculator.xlsm\"><IMG border=0 align=\"right\" SRC=\"https://www.football-data.co.uk/banner/calculator.png\"></A></B></div></td></tr>\\r\\n<tr><td class=\"menustd\"><div class=\"menus\"><B><A HREF=\"http://www.punterslounge.com\" TARGET=\"_blank\">Forum</A></B></div></td></tr>\\r\\n<tr><td class=\"menustd\"><div class=\"menus\"><B><A HREF=\"https://www.football-data.co.uk/blog/index.php\">Betting Articles</A></B> <A HREF=\"https://www.football-data.co.uk/blog/index.php\"><IMG border=0 align=\"right\" SRC=\"https://www.football-data.co.uk/banner/folder_open_information.png\"></A></div></td></tr>\\r\\n<tr><td class=\"menustd\"><div class=\"menus\"><B><A HREF=\"https://www.football-data.co.uk/gamblingproblem.php\">Betting Problem</A></B> <A HREF=\"https://www.football-data.co.uk/gamblingproblem.php\"><IMG border=0 align=\"right\" SRC=\"https://www.football-data.co.uk/banner/warning.png\"></A></div></td></tr>\\r\\n<tr><td class=\"menustd\"><div class=\"menus\"><B><A HREF=\"https://www.football-data.co.uk/links.php\">Other Sites</A></B></div></td></tr>\\r\\n<tr><td class=\"menustd\"><div class=\"menus\"><B><A HREF=\"https://www.football-data.co.uk/link.php\">Like this site?</A></B></div></td></tr>\\r\\n<tr><td class=\"menustd\"><div class=\"menus\"><B><A HREF=\"https://www.football-data.co.uk/contact.php\">Contact</A></B></div></td></tr>\\r\\n</table><BR>\\r\\n\\r\\n<table width=\"100%\" border=\"0\" cellspacing=\"1\" cellpadding=\"1\" bgcolor=\"#999999\">\\r\\n<tr><td bgcolor=\"#AAAAAA\"><div class=\"menus\"><B><FONT COLOR=\"#FFFFFF\">ODDS & RESULTS:<BR>MAIN LEAGUES</FONT></B></div></td></tr>\\r\\n<tr><td class=\"menustd\"><div class=\"menus\"><A HREF=\"https://www.football-data.co.uk/matches.php\"><b>Latest Matches</b></A></div></td></tr>\\r\\n<tr><td class=\"menustd\"><div class=\"menus\"><A HREF=\"https://www.football-data.co.uk/englandm.php\"><b>England</b></A> <A HREF=\"https://www.football-data.co.uk/englandm.php\"><IMG border=0 align=\"right\" SRC=\"http://livescore.football-data.co.uk/flags/england.gif\"</A></div></td></tr>\\r\\n<tr><td class=\"menustd\"><div class=\"menus\"><A HREF=\"https://www.football-data.co.uk/scotlandm.php\"><b>Scotland</b></A> <A HREF=\"https://www.football-data.co.uk/scotlandm.php\"><IMG border=0 align=\"right\" SRC=\"http://livescore.football-data.co.uk/flags/scotland.gif\"</A></div></td></tr>\\r\\n<tr><td class=\"menustd\"><div class=\"menus\"><A HREF=\"https://www.football-data.co.uk/germanym.php\"><b>Germany</b></A> <A HREF=\"https://www.football-data.co.uk/germanym.php\"><IMG border=0 align=\"right\" SRC=\"http://livescore.football-data.co.uk/flags/germany.gif\"</A></div></td></tr>\\r\\n<tr><td class=\"menustd\"><div class=\"menus\"><A HREF=\"https://www.football-data.co.uk/italym.php\"><b>Italy</b></A> <A HREF=\"https://www.football-data.co.uk/italym.php\"><IMG border=0 align=\"right\" SRC=\"http://livescore.football-data.co.uk/flags/italy.gif\"</A></div></td></tr>\\r\\n<tr><td class=\"menustd\"><div class=\"menus\"><A HREF=\"https://www.football-data.co.uk/spainm.php\"><b>Spain</b></A> <A HREF=\"https://www.football-data.co.uk/spainm.php\"><IMG border=0 align=\"right\" SRC=\"http://livescore.football-data.co.uk/flags/spain.gif\"</A></div></td></tr>\\r\\n<tr><td class=\"menustd\"><div class=\"menus\"><A HREF=\"https://www.football-data.co.uk/francem.php\"><b>France</b></A> <A HREF=\"https://www.football-data.co.uk/francem.php\"><IMG border=0 align=\"right\" SRC=\"http://livescore.football-data.co.uk/flags/france.gif\"</A></div></td></tr>\\r\\n<tr><td class=\"menustd\"><div class=\"menus\"><A HREF=\"https://www.football-data.co.uk/netherlandsm.php\"><b>Netherlands</b></A> <A HREF=\"https://www.football-data.co.uk/netherlandsm.php\"><IMG border=0 align=\"right\" SRC=\"http://livescore.football-data.co.uk/flags/holland.gif\"</A></div></td></tr>\\r\\n<tr><td class=\"menustd\"><div class=\"menus\"><A HREF=\"https://www.football-data.co.uk/belgiumm.php\"><b>Belgium</b></A> <A HREF=\"https://www.football-data.co.uk/belgiumm.php\"><IMG border=0 align=\"right\" SRC=\"http://livescore.football-data.co.uk/flags/belgium.gif\"</A></div></td></tr>\\r\\n<tr><td class=\"menustd\"><div class=\"menus\"><A HREF=\"https://www.football-data.co.uk/portugalm.php\"><b>Portugal</b></A> <A HREF=\"https://www.football-data.co.uk/portugalm.php\"><IMG border=0 align=\"right\" SRC=\"http://livescore.football-data.co.uk/flags/portugal.gif\"</A></div></td></tr>\\r\\n<tr><td class=\"menustd\"><div class=\"menus\"><A HREF=\"https://www.football-data.co.uk/turkeym.php\"><b>Turkey</b></A> <A HREF=\"https://www.football-data.co.uk/turkeym.php\"><IMG border=0 align=\"right\" SRC=\"http://livescore.football-data.co.uk/flags/turkey.gif\"</A></div></td></tr>\\r\\n<tr><td class=\"menustd\"><div class=\"menus\"><A HREF=\"https://www.football-data.co.uk/greecem.php\"><b>Greece</b></A> <A HREF=\"https://www.football-data.co.uk/greecem.php\"><IMG border=0 align=\"right\" SRC=\"http://livescore.football-data.co.uk/flags/greece.gif\"</A></div></td></tr>\\r\\n<tr><td class=\"menustd\"><div class=\"menus\"><A HREF=\"https://www.football-data.co.uk/downloadm.php\"><B>All Divisions</B></A></div></td></tr>\\r\\n<tr><td class=\"menustd\"><div class=\"menus\"><table cellpadding=0 border=0><td><b>Updates&nbsp;</b></td><td><a href=\"https://twitter.com/12Xpert\" class=\"twitter-follow-button\" data-show-count=\"false\" data-show-screen-name=\"false\">Follow @12Xpert</a>\\r\\n<script>!function(d,s,id){var js,fjs=d.getElementsByTagName(s)[0];if(!d.getElementById(id)){js=d.createElement(s);js.id=id;js.src=\"//platform.twitter.com/widgets.js\";fjs.parentNode.insertBefore(js,fjs);}}(document,\"script\",\"twitter-wjs\");</script><t/td></table></div></td></tr>\\r\\n</table><BR>\\r\\n\\r\\n<table width=\"100%\" border=\"0\" cellspacing=\"1\" cellpadding=\"1\" bgcolor=\"#999999\">\\r\\n<tr><td bgcolor=\"#AAAAAA\"><div class=\"menus\"><B><FONT COLOR=\"#FFFFFF\">ODDS & RESULTS:<BR>EXTRA LEAGUES</FONT></B></div></td></tr>\\r\\n<tr><td class=\"menustd\"><div class=\"menus\"><A HREF=\"https://www.football-data.co.uk/matches_new_leagues.php\"><b>Latest Matches</b></A></div></td></tr>\\r\\n<tr><td class=\"menustd\"><div class=\"menus\"><A HREF=\"https://www.football-data.co.uk/argentina.php\"><b>Argentina</b></A> <A HREF=\"https://www.football-data.co.uk/argentia.php\"><IMG border=0 align=\"right\" SRC=\"http://livescore.football-data.co.uk/flags/argentia.gif\"</A></div></td></tr>\\r\\n<tr><td class=\"menustd\"><div class=\"menus\"><A HREF=\"https://www.football-data.co.uk/austria.php\"><b>Austria</b></A> <A HREF=\"https://www.football-data.co.uk/austria.php\"><IMG border=0 align=\"right\" SRC=\"http://livescore.football-data.co.uk/flags/austria.gif\"</A></div></td></tr>\\r\\n<tr><td class=\"menustd\"><div class=\"menus\"><A HREF=\"https://www.football-data.co.uk/brazil.php\"><b>Brazil</b></A> <A HREF=\"https://www.football-data.co.uk/brazil.php\"><IMG border=0 align=\"right\" SRC=\"http://livescore.football-data.co.uk/flags/brazil.gif\"</A></div></td></tr>\\r\\n<tr><td class=\"menustd\"><div class=\"menus\"><A HREF=\"https://www.football-data.co.uk/china.php\"><b>China</b></A> <A HREF=\"https://www.football-data.co.uk/china.php\"><IMG border=0 align=\"right\" SRC=\"http://livescore.football-data.co.uk/flags/china.gif\"</A></div></td></tr>\\r\\n<tr><td class=\"menustd\"><div class=\"menus\"><A HREF=\"https://www.football-data.co.uk/denmark.php\"><b>Denmark</b></A> <A HREF=\"https://www.football-data.co.uk/denmark.php\"><IMG border=0 align=\"right\" SRC=\"http://livescore.football-data.co.uk/flags/denmark.gif\"</A></div></td></tr>\\r\\n<tr><td class=\"menustd\"><div class=\"menus\"><A HREF=\"https://www.football-data.co.uk/finland.php\"><b>Finland</b></A> <A HREF=\"https://www.football-data.co.uk/finland.php\"><IMG border=0 align=\"right\" SRC=\"http://livescore.football-data.co.uk/flags/finland.gif\"</A></div></td></tr>\\r\\n<tr><td class=\"menustd\"><div class=\"menus\"><A HREF=\"https://www.football-data.co.uk/ireland.php\"><b>Ireland</b></A> <A HREF=\"https://www.football-data.co.uk/ireland.php\"><IMG border=0 align=\"right\" SRC=\"http://livescore.football-data.co.uk/flags/ireland.gif\"</A></div></td></tr>\\r\\n<tr><td class=\"menustd\"><div class=\"menus\"><A HREF=\"https://www.football-data.co.uk/japan.php\"><b>Japan</b></A> <A HREF=\"https://www.football-data.co.uk/japan.php\"><IMG border=0 align=\"right\" SRC=\"http://livescore.football-data.co.uk/flags/japan.gif\"</A></div></td></tr>\\r\\n<tr><td class=\"menustd\"><div class=\"menus\"><A HREF=\"https://www.football-data.co.uk/mexico.php\"><b>Mexico</b></A> <A HREF=\"https://www.football-data.co.uk/mexico.php\"><IMG border=0 align=\"right\" SRC=\"http://livescore.football-data.co.uk/flags/mexico.gif\"</A></div></td></tr>\\r\\n<tr><td class=\"menustd\"><div class=\"menus\"><A HREF=\"https://www.football-data.co.uk/norway.php\"><b>Norway</b></A> <A HREF=\"https://www.football-data.co.uk/norway.php\"><IMG border=0 align=\"right\" SRC=\"http://livescore.football-data.co.uk/flags/norway.gif\"</A></div></td></tr>\\r\\n<tr><td class=\"menustd\"><div class=\"menus\"><A HREF=\"https://www.football-data.co.uk/poland.php\"><b>Poland</b></A> <A HREF=\"https://www.football-data.co.uk/poland.php\"><IMG border=0 align=\"right\" SRC=\"http://livescore.football-data.co.uk/flags/poland.gif\"</A></div></td></tr>\\r\\n<tr><td class=\"menustd\"><div class=\"menus\"><A HREF=\"https://www.football-data.co.uk/romania.php\"><b>Romania</b></A> <A HREF=\"https://www.football-data.co.uk/romania.php\"><IMG border=0 align=\"right\" SRC=\"http://livescore.football-data.co.uk/flags/romania.gif\"</A></div></td></tr>\\r\\n<tr><td class=\"menustd\"><div class=\"menus\"><A HREF=\"https://www.football-data.co.uk/russia.php\"><b>Russia</b></A> <A HREF=\"https://www.football-data.co.uk/russia.php\"><IMG border=0 align=\"right\" SRC=\"http://livescore.football-data.co.uk/flags/russia.gif\"</A></div></td></tr>\\r\\n<tr><td class=\"menustd\"><div class=\"menus\"><A HREF=\"https://www.football-data.co.uk/sweden.php\"><b>Sweden</b></A> <A HREF=\"https://www.football-data.co.uk/sweden.php\"><IMG border=0 align=\"right\" SRC=\"http://livescore.football-data.co.uk/flags/sweden.gif\"</A></div></td></tr>\\r\\n<tr><td class=\"menustd\"><div class=\"menus\"><A HREF=\"https://www.football-data.co.uk/switzerland.php\"><b>Switzerland</b></A> <A HREF=\"https://www.football-data.co.uk/switzerland.php\"><IMG border=0 align=\"right\" SRC=\"http://livescore.football-data.co.uk/flags/swiss.gif\"</A></div></td></tr>\\r\\n<tr><td class=\"menustd\"><div class=\"menus\"><A HREF=\"https://www.football-data.co.uk/usa.php\"><b>USA</b></A> <A HREF=\"https://www.football-data.co.uk/usa.php\"><IMG border=0 align=\"right\" SRC=\"http://livescore.football-data.co.uk/flags/usa.gif\"</A></div></td></tr>\\r\\n<tr><td class=\"menustd\"><div class=\"menus\"><A HREF=\"https://www.football-data.co.uk/all_new_data.php\"><B>All Divisions</B></A></div></td></tr>\\r\\n</table><BR>\\r\\n\\r\\n<table width=\"100%\" border=\"0\" cellspacing=\"1\" cellpadding=\"1\" bgcolor=\"#999999\">\\r\\n<tr><td bgcolor=\"#AAAAAA\"><div class=\"menus\"><B><FONT COLOR=\"#FFFFFF\">TOP RESOURCES</FONT></B></div></td></tr>\\r\\n<tr><td class=\"menustd\"><div class=\"menus\"><A target=_\"blank\" HREF=\"http://www.bettingadvice.com\"><B>Betting Advice</B></A></div></td></tr>\\r\\n<tr><td class=\"menustd\"><div class=\"menus\"><A HREF=\"../resources/goonersguide.php\"><B>Gooners Guide</B></A></div></td></tr>\\r\\n<tr><td class=\"menustd\"><div class=\"menus\"><A target=_\"blank\" HREF=\"http://www.top100bookmakers.com/\"><B>Top 100 Bookmakers</B></A></div></td></tr>\\r\\n</table><BR>\\r\\n\\r\\n<table width=\"100%\" border=\"0\" cellspacing=\"1\" cellpadding=\"1\" bgcolor=\"#999999\">\\r\\n<tr><td bgcolor=\"#AAAAAA\"><div class=\"menus\"><B><FONT COLOR=\"#FFFFFF\">LIVESCORES</FONT></B></div></td></tr>\\r\\n<tr><td class=\"menustd\"><div class=\"menus\"><A HREF=\"http://livescore.football-data.co.uk\"><B>Live Scores</B></A></div></td></tr>\\r\\n<tr><td class=\"menustd\"><div class=\"menus\"><A target=_\"blank\" HREF=\"https://www.flashscore.co.uk\"><B>Football Scores</B></A></div></td></tr>\\r\\n<tr><td class=\"menustd\"><div class=\"menus\"><A target=_\"blank\" HREF=\"https://www.flashscore.com\"><B>Live Soccer</B></A></div></td></tr>\\r\\n<tr><td class=\"menustd\"><div class=\"menus\"><A HREF=\"../resources/statisticsports.php\"><B>Statisticsports</B></A></div></td></tr>\\r\\n</table><BR>\\r\\n\\r\\n<table width=\"100%\" border=\"0\" cellspacing=\"1\" cellpadding=\"1\" bgcolor=\"#999999\">\\r\\n<tr><td bgcolor=\"#AAAAAA\"><div class=\"menus\"><B><FONT COLOR=\"#FFFFFF\">STATS</FONT></B></div></td></tr>\\r\\n<tr><td class=\"menustd\"><div class=\"menus\"><A target=_\"blank\" HREF=\"https://www.accastats.com/\"><B>AccaStats</B></A></div></td></tr>\\r\\n<tr><td class=\"menustd\"><div class=\"menus\"><A target=_\"blank\" HREF=\"https://footystats.org\"><B>FootyStats</B></A></div></td></tr>\\r\\n</table><BR>\\r\\n\\r\\n<table width=\"100%\" border=\"0\" cellspacing=\"1\" cellpadding=\"1\" bgcolor=\"#999999\">\\r\\n<tr><td bgcolor=\"#AAAAAA\"><div class=\"menus\"><B><FONT COLOR=\"#FFFFFF\">ODDS</FONT></B></div></td></tr>\\r\\n<tr><td class=\"menustd\"><div class=\"menus\"><A target=_\"blank\" HREF=\"http://www.oddsportal.com/\"><B>Betting Odds</B></A></div></td></tr>\\r\\n</table><BR>\\r\\n\\r\\n<table width=\"100%\" border=\"0\" cellspacing=\"1\" cellpadding=\"1\" bgcolor=\"#999999\">\\r\\n<tr><td bgcolor=\"#AAAAAA\"><div class=\"menus\"><B><FONT COLOR=\"#FFFFFF\">BETTING</FONT></B></div></td></tr>\\r\\n<tr><td class=\"menustd\"><div class=\"menus\"><A HREF=\"https://www.football-data.co.uk/resources/allforbets.php\"><B>All For Bets</B></A></div></td></tr>\\r\\n<tr><td class=\"menustd\"><div class=\"menus\"><A target=_\"blank\" HREF=\"http://www.betexplorer.com/\"><B>BetExplorer</B></A></div></td></tr>\\r\\n<tr><td class=\"menustd\"><div class=\"menus\"><A target=_\"blank\" HREF=\"http://www.bet-portal.net\"><B>Football Predictions</B></A></div></td></tr>\\r\\n<tr><td class=\"menustd\"><div class=\"menus\"><A HREF=\"../resources/godsofodds.php\"><B>GodsOfOdds</B></A></div></td></tr>\\r\\n<tr><td class=\"menustd\"><div class=\"menus\"><A target=_\"blank\" HREF=\"https://www.soccerwidow.com/\" title=\"About Football, Gambling, Statistics, Betting Maths and Strategies\"><B>Soccerwidow</B></A></div></td></tr>\\r\\n</table><BR>\\r\\n\\r\\n<table width=\"100%\" border=\"0\" cellspacing=\"1\" cellpadding=\"1\" bgcolor=\"#999999\">\\r\\n<tr><td bgcolor=\"#AAAAAA\"><div class=\"menus\"><B><FONT COLOR=\"#FFFFFF\">FOOTBALL</FONT></B></div></td></tr>\\r\\n<tr><td class=\"menustd\"><div class=\"menus\"><A HREF=\"http://injuriesandsuspensions.com\" target=_\"blank\"><b>Injuries & Suspensions</b></A></div></td></tr>\\r\\n</table><BR>\\r\\n\\r\\n<table width=\"100%\" border=\"0\" cellspacing=\"1\" cellpadding=\"1\" bgcolor=\"#999999\">\\r\\n<tr><td bgcolor=\"#AAAAAA\"><div class=\"menus\"><B><FONT COLOR=\"#FFFFFF\">TOP FORUMS</FONT></B></div></td></tr>\\r\\n<tr><td class=\"menustd\"><div class=\"menus\"><A target=_\"blank\" HREF=\"http://www.punterslounge.com\"><b>Punters Lounge</b></A></div></td></tr>\\r\\n</table><BR>\\r\\n\\r\\n</TD>\\r\\n\\r\\n</TR></TABLE>\\r\\n</BODY>\\r\\n</HTML>\\r\\n'"
      ]
     },
     "execution_count": 8,
     "metadata": {},
     "output_type": "execute_result"
    }
   ],
   "source": [
    "response.text"
   ]
  },
  {
   "cell_type": "code",
   "execution_count": 9,
   "metadata": {},
   "outputs": [],
   "source": [
    "def retrieve_data(URL):\n",
    "    response = requests.get(\"URL\")\n",
    "    print(response.status_code)\n",
    "    data = response.json()\n",
    "\n",
    "    #df = pd.DataFrame(response.json()['businesses'])\n",
    "    #return df\n"
   ]
  }
 ],
 "metadata": {
  "kernelspec": {
   "display_name": "Python 3",
   "language": "python",
   "name": "python3"
  },
  "language_info": {
   "codemirror_mode": {
    "name": "ipython",
    "version": 3
   },
   "file_extension": ".py",
   "mimetype": "text/x-python",
   "name": "python",
   "nbconvert_exporter": "python",
   "pygments_lexer": "ipython3",
   "version": "3.7.3"
  }
 },
 "nbformat": 4,
 "nbformat_minor": 2
}
